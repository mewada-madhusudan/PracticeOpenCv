{
 "cells": [
  {
   "cell_type": "code",
   "execution_count": 2,
   "metadata": {},
   "outputs": [],
   "source": [
    "import cv2\n",
    "import numpy as np"
   ]
  },
  {
   "cell_type": "code",
   "execution_count": 3,
   "metadata": {},
   "outputs": [],
   "source": [
    "N = 4\n",
    "coeffs = np.random.randn(N+1,1)\n",
    "retval, roots = cv2.solvePoly(coeffs)"
   ]
  },
  {
   "cell_type": "code",
   "execution_count": 15,
   "metadata": {},
   "outputs": [
    {
     "name": "stdout",
     "output_type": "stream",
     "text": [
      "Root [[ 0.0494519   1.12199842]] residual: [  1.50920942e-16]\n",
      "Root [[-0.17045556  0.        ]] residual: [ 0.]\n",
      "Root [[ 0.0494519  -1.12199842]] residual: [  1.50920942e-16]\n",
      "Root [[-8.1939051  0.       ]] residual: [  1.80133686e-14]\n"
     ]
    }
   ],
   "source": [
    "for i in range(N):\n",
    "    print('Root', roots[i],'residual:', \n",
    "          np.abs(np.polyval(coeffs[::-1], roots[i][0][0]+1j*roots[i][0][1])))"
   ]
  },
  {
   "cell_type": "code",
   "execution_count": null,
   "metadata": {},
   "outputs": [],
   "source": []
  }
 ],
 "metadata": {
  "kernelspec": {
   "display_name": "Python 3",
   "language": "python",
   "name": "python3"
  },
  "language_info": {
   "codemirror_mode": {
    "name": "ipython",
    "version": 3
   },
   "file_extension": ".py",
   "mimetype": "text/x-python",
   "name": "python",
   "nbconvert_exporter": "python",
   "pygments_lexer": "ipython3",
   "version": "3.6.4"
  }
 },
 "nbformat": 4,
 "nbformat_minor": 2
}
