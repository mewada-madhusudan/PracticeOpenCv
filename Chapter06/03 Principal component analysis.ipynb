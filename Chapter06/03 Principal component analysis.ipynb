{
 "cells": [
  {
   "cell_type": "code",
   "execution_count": 1,
   "metadata": {},
   "outputs": [],
   "source": [
    "import cv2\n",
    "import numpy as np"
   ]
  },
  {
   "cell_type": "code",
   "execution_count": 2,
   "metadata": {},
   "outputs": [],
   "source": [
    "def contours_pca(contours):\n",
    "    # join all contours points into the single matrix and remove unit dimensions\n",
    "    cnt_pts = np.vstack(contours).squeeze().astype(np.float32)\n",
    "\n",
    "    mean, eigvec = cv2.PCACompute(cnt_pts, None)\n",
    "\n",
    "    center = mean.squeeze().astype(np.int32)\n",
    "    delta = (150*eigvec).astype(np.int32)\n",
    "    return center, delta"
   ]
  },
  {
   "cell_type": "code",
   "execution_count": 3,
   "metadata": {},
   "outputs": [],
   "source": [
    "def draw_pca_results(image, contours, center, delta):\n",
    "    cv2.drawContours(image, contours, -1, (255, 255, 0))\n",
    "\n",
    "    cv2.line(image, tuple((center + delta[0])), \n",
    "                    tuple((center - delta[0])), \n",
    "                    (0, 255, 0), 2)\n",
    "\n",
    "    cv2.line(image, tuple((center + delta[1])), \n",
    "                    tuple((center - delta[1])), \n",
    "                    (0, 0, 255), 2)\n",
    "\n",
    "    cv2.circle(image, tuple(center), 20, (0, 255, 255), 2)"
   ]
  },
  {
   "cell_type": "code",
   "execution_count": 4,
   "metadata": {},
   "outputs": [],
   "source": [
    "cap = cv2.VideoCapture(\"../data/opencv_logo.mp4\")\n",
    "\n",
    "while True:\n",
    "    status_cap, frame = cap.read()\n",
    "    if not status_cap:\n",
    "        break\n",
    "    \n",
    "    frame = cv2.resize(frame, (0, 0), frame, 0.5, 0.5)\n",
    "    edges = cv2.Canny(frame, 250, 150)\n",
    "    \n",
    "    _, contours, _ = cv2.findContours(edges, cv2.RETR_LIST, cv2.CHAIN_APPROX_SIMPLE)\n",
    "\n",
    "    if len(contours):\n",
    "        center, delta = contours_pca(contours)\n",
    "        draw_pca_results(frame, contours, center, delta)\n",
    "        \n",
    "    cv2.imshow('PCA', frame)\n",
    "    if cv2.waitKey(100) == 27:\n",
    "        break\n",
    "\n",
    "cv2.destroyAllWindows()"
   ]
  },
  {
   "cell_type": "code",
   "execution_count": null,
   "metadata": {},
   "outputs": [],
   "source": []
  }
 ],
 "metadata": {
  "kernelspec": {
   "display_name": "Python 3",
   "language": "python",
   "name": "python3"
  },
  "language_info": {
   "codemirror_mode": {
    "name": "ipython",
    "version": 3
   },
   "file_extension": ".py",
   "mimetype": "text/x-python",
   "name": "python",
   "nbconvert_exporter": "python",
   "pygments_lexer": "ipython3",
   "version": "3.5.2"
  }
 },
 "nbformat": 4,
 "nbformat_minor": 2
}
