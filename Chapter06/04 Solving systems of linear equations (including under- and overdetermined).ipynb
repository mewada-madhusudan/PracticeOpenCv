{
 "cells": [
  {
   "cell_type": "code",
   "execution_count": 24,
   "metadata": {},
   "outputs": [],
   "source": [
    "import cv2\n",
    "import numpy as np"
   ]
  },
  {
   "cell_type": "code",
   "execution_count": 65,
   "metadata": {},
   "outputs": [],
   "source": [
    "N = 10\n",
    "A = np.random.randn(N,N)\n",
    "while np.linalg.matrix_rank(A) < N:\n",
    "    A = np.random.randn(N,N)\n",
    "x = np.random.randn(N,1)\n",
    "b = A @ x"
   ]
  },
  {
   "cell_type": "code",
   "execution_count": 69,
   "metadata": {},
   "outputs": [
    {
     "name": "stdout",
     "output_type": "stream",
     "text": [
      "Solved: True\n",
      "Residual: 2.7194799110210367e-15\n",
      "Relative error: 1.1308382847616332e-15\n"
     ]
    }
   ],
   "source": [
    "ok, x_est = cv2.solve(A, b)\n",
    "print('Solved:', ok)\n",
    "if ok:\n",
    "    print('Residual:', cv2.norm(b - A @ x_est))\n",
    "    print('Relative error:', cv2.norm(x_est - x) / cv2.norm(x))"
   ]
  },
  {
   "cell_type": "code",
   "execution_count": 70,
   "metadata": {},
   "outputs": [],
   "source": [
    "N = 10\n",
    "A = np.random.randn(N*2,N)\n",
    "while np.linalg.matrix_rank(A) < N:\n",
    "    A = np.random.randn(N*2,N)\n",
    "x = np.random.randn(N,1)\n",
    "b = A @ x"
   ]
  },
  {
   "cell_type": "code",
   "execution_count": 71,
   "metadata": {},
   "outputs": [
    {
     "name": "stdout",
     "output_type": "stream",
     "text": [
      "Solved overdetermined system: True\n",
      "Residual: 4.418021593470969e-15\n",
      "Relative error: 5.810798787243048e-16\n"
     ]
    }
   ],
   "source": [
    "ok, x_est = cv2.solve(A, b, flags=cv2.DECOMP_NORMAL)\n",
    "print('Solved overdetermined system:', ok)\n",
    "if ok:\n",
    "    print('Residual:', cv2.norm(b - A @ x_est))\n",
    "    print('Relative error:', cv2.norm(x_est - x) / cv2.norm(x))"
   ]
  },
  {
   "cell_type": "code",
   "execution_count": 72,
   "metadata": {},
   "outputs": [],
   "source": [
    "N = 10\n",
    "A = np.random.randn(N,N*2)\n",
    "x = np.random.randn(N*2,1)\n",
    "b = A @ x"
   ]
  },
  {
   "cell_type": "code",
   "execution_count": 73,
   "metadata": {},
   "outputs": [],
   "source": [
    "w, u, v_t = cv2.SVDecomp(A, flags=cv2.SVD_FULL_UV)\n",
    "mask = w > 1e-6\n",
    "w[mask] = 1 / w[mask]\n",
    "w_pinv = np.zeros((A.shape[1], A.shape[0]))\n",
    "w_pinv[:N,:N] = np.diag(w[:,0])\n",
    "A_pinv = v_t.T @ w_pinv @ u.T\n",
    "x_est = A_pinv @ b"
   ]
  },
  {
   "cell_type": "code",
   "execution_count": 74,
   "metadata": {
    "scrolled": true
   },
   "outputs": [
    {
     "name": "stdout",
     "output_type": "stream",
     "text": [
      "Solved under-determined system\n",
      "Residual: 9.296750665059115e-15\n",
      "Relative error: 0.7288729621745673\n"
     ]
    }
   ],
   "source": [
    "print('Solved underdetermined system')\n",
    "print('Residual:', cv2.norm(b - A @ x_est))\n",
    "print('Relative error:', cv2.norm(x_est - x) / cv2.norm(x))"
   ]
  },
  {
   "cell_type": "code",
   "execution_count": null,
   "metadata": {},
   "outputs": [],
   "source": []
  }
 ],
 "metadata": {
  "kernelspec": {
   "display_name": "Python 3",
   "language": "python",
   "name": "python3"
  },
  "language_info": {
   "codemirror_mode": {
    "name": "ipython",
    "version": 3
   },
   "file_extension": ".py",
   "mimetype": "text/x-python",
   "name": "python",
   "nbconvert_exporter": "python",
   "pygments_lexer": "ipython3",
   "version": "3.6.4"
  }
 },
 "nbformat": 4,
 "nbformat_minor": 2
}
