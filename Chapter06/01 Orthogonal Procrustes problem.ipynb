{
 "cells": [
  {
   "cell_type": "code",
   "execution_count": 1,
   "metadata": {},
   "outputs": [],
   "source": [
    "import cv2\n",
    "import numpy as np"
   ]
  },
  {
   "cell_type": "code",
   "execution_count": 2,
   "metadata": {},
   "outputs": [],
   "source": [
    "pts = np.random.multivariate_normal([150, 300], [[1024, 512], [512, 1024]], 50)\n",
    "\n",
    "rmat = cv2.getRotationMatrix2D((0, 0), 30, 1)[:, :2]\n",
    "rpts = np.matmul(pts, rmat.transpose())\n",
    "\n",
    "rpts_noise = rpts + np.random.multivariate_normal([0, 0], [[200, 0], [0, 200]], len(pts))"
   ]
  },
  {
   "cell_type": "code",
   "execution_count": 3,
   "metadata": {},
   "outputs": [],
   "source": [
    "M = np.matmul(pts.transpose(), rpts_noise)\n",
    "\n",
    "sigma, u, v_t = cv2.SVDecomp(M)\n",
    "\n",
    "rmat_est = np.matmul(v_t, u).transpose()"
   ]
  },
  {
   "cell_type": "code",
   "execution_count": 4,
   "metadata": {},
   "outputs": [],
   "source": [
    "res, rmat_inv = cv2.invert(rmat_est)\n",
    "assert res != 0\n",
    "pts_est = np.matmul(rpts, rmat_inv.transpose())\n",
    "\n",
    "rpts_err = cv2.norm(rpts, rpts_noise, cv2.NORM_L2)\n",
    "pts_err = cv2.norm(pts_est, pts, cv2.NORM_L2)\n",
    "rmat_err = cv2.norm(rmat, rmat_est, cv2.NORM_L2)"
   ]
  },
  {
   "cell_type": "code",
   "execution_count": 5,
   "metadata": {},
   "outputs": [],
   "source": [
    "def draw_pts(image, points, color, thickness=cv2.FILLED):\n",
    "    for pt in points:\n",
    "        cv2.circle(img, tuple([int(x) for x in pt]), 10, color, thickness)\n",
    "\n",
    "img = np.zeros([512, 512, 3])\n",
    "\n",
    "draw_pts(img, pts, (0, 255, 0))\n",
    "draw_pts(img, pts_est, (255, 255, 255), 2)\n",
    "draw_pts(img, rpts, (0, 255, 255))\n",
    "draw_pts(img, rpts_noise, (0, 0, 255), 2)\n",
    "\n",
    "cv2.putText(img, 'R_points L2 diff: %.4f' % rpts_err, (5, 30), cv2.FONT_HERSHEY_SIMPLEX, 1, (255, 255, 255), 2)\n",
    "cv2.putText(img, 'Points L2 diff: %.4f' % pts_err, (5, 60), cv2.FONT_HERSHEY_SIMPLEX, 1, (255, 255, 255), 2)\n",
    "cv2.putText(img, 'R_matrices L2 diff: %.4f' % rmat_err, (5, 90), cv2.FONT_HERSHEY_SIMPLEX, 1, (255, 255, 255), 2)\n",
    "\n",
    "cv2.imshow('Points', img)\n",
    "cv2.waitKey()\n",
    "\n",
    "cv2.destroyAllWindows()"
   ]
  },
  {
   "cell_type": "code",
   "execution_count": null,
   "metadata": {},
   "outputs": [],
   "source": []
  }
 ],
 "metadata": {
  "kernelspec": {
   "display_name": "Python 3",
   "language": "python",
   "name": "python3"
  },
  "language_info": {
   "codemirror_mode": {
    "name": "ipython",
    "version": 3
   },
   "file_extension": ".py",
   "mimetype": "text/x-python",
   "name": "python",
   "nbconvert_exporter": "python",
   "pygments_lexer": "ipython3",
   "version": "3.6.4"
  }
 },
 "nbformat": 4,
 "nbformat_minor": 2
}
