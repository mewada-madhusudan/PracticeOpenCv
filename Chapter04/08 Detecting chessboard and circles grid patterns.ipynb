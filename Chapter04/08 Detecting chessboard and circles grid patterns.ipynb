{
 "cells": [
  {
   "cell_type": "code",
   "execution_count": 5,
   "metadata": {
    "collapsed": true
   },
   "outputs": [],
   "source": [
    "import cv2\n",
    "import matplotlib.pyplot as plt"
   ]
  },
  {
   "cell_type": "code",
   "execution_count": 7,
   "metadata": {},
   "outputs": [
    {
     "name": "stdout",
     "output_type": "stream",
     "text": [
      "Using matplotlib backend: TkAgg\n"
     ]
    }
   ],
   "source": [
    "%matplotlib auto"
   ]
  },
  {
   "cell_type": "code",
   "execution_count": 16,
   "metadata": {},
   "outputs": [],
   "source": [
    "image_chess = cv2.imread('../data/chessboard.png')\n",
    "\n",
    "found, corners = cv2.findChessboardCorners(image_chess, (6, 9))\n",
    "assert found == True, \"can't find chessboard pattern\"\n",
    "\n",
    "dbg_image_chess = image_chess.copy()\n",
    "cv2.drawChessboardCorners(dbg_image_chess, (6, 9), corners, found);"
   ]
  },
  {
   "cell_type": "code",
   "execution_count": 20,
   "metadata": {},
   "outputs": [],
   "source": [
    "plt.figure(figsize=(8,4))\n",
    "plt.subplot(121)\n",
    "plt.title('original')\n",
    "plt.axis('off')\n",
    "plt.imshow(image_chess)\n",
    "plt.subplot(122)\n",
    "plt.title('detected pattern')\n",
    "plt.axis('off')\n",
    "plt.imshow(dbg_image_chess)\n",
    "plt.show()"
   ]
  },
  {
   "cell_type": "code",
   "execution_count": 25,
   "metadata": {},
   "outputs": [],
   "source": [
    "image_circles = cv2.imread('../data/circlesgrid.png')\n",
    "\n",
    "found, corners = cv2.findCirclesGrid(image_circles, (6, 6), cv2.CALIB_CB_SYMMETRIC_GRID)\n",
    "assert found == True, \"can't find circles grid pattern\"\n",
    "\n",
    "dbg_image_circles = image_circles.copy()\n",
    "cv2.drawChessboardCorners(dbg_image_circles, (6, 6), corners, found);"
   ]
  },
  {
   "cell_type": "code",
   "execution_count": 27,
   "metadata": {
    "collapsed": true
   },
   "outputs": [],
   "source": [
    "plt.figure(figsize=(8,8))\n",
    "plt.subplot(221)\n",
    "plt.title('original')\n",
    "plt.axis('off')\n",
    "plt.imshow(image_chess)\n",
    "plt.subplot(222)\n",
    "plt.title('detected pattern')\n",
    "plt.axis('off')\n",
    "plt.imshow(dbg_image_chess)\n",
    "plt.show()\n",
    "plt.subplot(223)\n",
    "plt.title('original')\n",
    "plt.axis('off')\n",
    "plt.imshow(image_circles)\n",
    "plt.subplot(224)\n",
    "plt.title('detected pattern')\n",
    "plt.axis('off')\n",
    "plt.imshow(dbg_image_circles)\n",
    "plt.tight_layout()\n",
    "plt.show()"
   ]
  },
  {
   "cell_type": "code",
   "execution_count": null,
   "metadata": {
    "collapsed": true
   },
   "outputs": [],
   "source": []
  }
 ],
 "metadata": {
  "kernelspec": {
   "display_name": "Python 3",
   "language": "python",
   "name": "python3"
  },
  "language_info": {
   "codemirror_mode": {
    "name": "ipython",
    "version": 3
   },
   "file_extension": ".py",
   "mimetype": "text/x-python",
   "name": "python",
   "nbconvert_exporter": "python",
   "pygments_lexer": "ipython3",
   "version": "3.5.2"
  }
 },
 "nbformat": 4,
 "nbformat_minor": 2
}
