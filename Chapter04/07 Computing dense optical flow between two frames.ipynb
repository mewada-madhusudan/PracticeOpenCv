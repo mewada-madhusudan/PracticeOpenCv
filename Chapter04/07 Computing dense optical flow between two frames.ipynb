{
 "cells": [
  {
   "cell_type": "code",
   "execution_count": 5,
   "metadata": {},
   "outputs": [],
   "source": [
    "import cv2\n",
    "import numpy as np"
   ]
  },
  {
   "cell_type": "code",
   "execution_count": 10,
   "metadata": {},
   "outputs": [],
   "source": [
    "def display_flow(img, flow, stride=40):    \n",
    "    for index in np.ndindex(flow[::stride, ::stride].shape[:2]):\n",
    "        pt1 = tuple(i*stride for i in index)\n",
    "        delta = flow[pt1].astype(np.int32)[::-1]\n",
    "        pt2 = tuple(pt1 + 10*delta)\n",
    "        if 2 <= cv2.norm(delta) <= 10:\n",
    "            cv2.arrowedLine(img, pt1[::-1], pt2[::-1], (0,0,255), 5, cv2.LINE_AA, 0, 0.4)\n",
    "        \n",
    "    norm_opt_flow = np.linalg.norm(flow, axis=2)\n",
    "    norm_opt_flow = cv2.normalize(norm_opt_flow, None, 0, 1, cv2.NORM_MINMAX)\n",
    "    \n",
    "    cv2.imshow('optical flow', img)\n",
    "    cv2.imshow('optical flow magnitude', norm_opt_flow)\n",
    "    k = cv2.waitKey(1)\n",
    "    \n",
    "    if k == 27:\n",
    "        return 1\n",
    "    else:\n",
    "        return 0"
   ]
  },
  {
   "cell_type": "code",
   "execution_count": 12,
   "metadata": {},
   "outputs": [],
   "source": [
    "cap = cv2.VideoCapture(\"../data/traffic.mp4\")\n",
    "_, prev_frame = cap.read()\n",
    "\n",
    "prev_frame = cv2.cvtColor(prev_frame, cv2.COLOR_BGR2GRAY)\n",
    "prev_frame = cv2.resize(prev_frame, (0,0), None, 0.5, 0.5)\n",
    "init_flow = True\n",
    "\n",
    "while True:\n",
    "    status_cap, frame = cap.read()\n",
    "    frame = cv2.resize(frame, (0,0), None, 0.5, 0.5)\n",
    "    if not status_cap:\n",
    "        break\n",
    "    gray = cv2.cvtColor(frame, cv2.COLOR_BGR2GRAY)\n",
    "    \n",
    "    if init_flow:\n",
    "        opt_flow = cv2.calcOpticalFlowFarneback(prev_frame, gray, None, \n",
    "                                                0.5, 5, 13, 10, 5, 1.1, \n",
    "                                                cv2.OPTFLOW_FARNEBACK_GAUSSIAN)\n",
    "        init_flow = False\n",
    "    else:\n",
    "        opt_flow = cv2.calcOpticalFlowFarneback(prev_frame, gray, opt_flow, \n",
    "                                                0.5, 5, 13, 10, 5, 1.1, \n",
    "                                                cv2.OPTFLOW_USE_INITIAL_FLOW)\n",
    "    \n",
    "    prev_frame = np.copy(gray)\n",
    "    \n",
    "    if display_flow(frame, opt_flow):\n",
    "        break;\n",
    "    \n",
    "cv2.destroyAllWindows()"
   ]
  },
  {
   "cell_type": "code",
   "execution_count": 13,
   "metadata": {},
   "outputs": [
    {
     "name": "stdout",
     "output_type": "stream",
     "text": [
      "<type 'cv2.DualTVL1OpticalFlow'>\n"
     ]
    }
   ],
   "source": [
    "cap.set(cv2.CAP_PROP_POS_FRAMES, 0)\n",
    "_, prev_frame = cap.read()\n",
    "\n",
    "prev_frame = cv2.cvtColor(prev_frame, cv2.COLOR_BGR2GRAY)\n",
    "prev_frame = cv2.resize(prev_frame, (0,0), None, 0.5, 0.5)\n",
    "\n",
    "flow_DualTVL1 = cv2.createOptFlow_DualTVL1()\n",
    "print type(flow_DualTVL1)\n",
    "while True:\n",
    "    status_cap, frame = cap.read()\n",
    "    frame = cv2.resize(frame, (0,0), None, 0.5, 0.5)\n",
    "    if not status_cap:\n",
    "        break\n",
    "    gray = cv2.cvtColor(frame, cv2.COLOR_BGR2GRAY)\n",
    "    \n",
    "    if not flow_DualTVL1.getUseInitialFlow():\n",
    "        opt_flow = flow_DualTVL1.calc(prev_frame, gray, None)\n",
    "        flow_DualTVL1.setUseInitialFlow(True)\n",
    "    else:\n",
    "        opt_flow = flow_DualTVL1.calc(prev_frame, gray, opt_flow)\n",
    "            \n",
    "    prev_frame = np.copy(gray)\n",
    "    \n",
    "    if display_flow(frame, opt_flow):\n",
    "        break;\n",
    "    \n",
    "cv2.destroyAllWindows()"
   ]
  },
  {
   "cell_type": "code",
   "execution_count": null,
   "metadata": {},
   "outputs": [],
   "source": []
  }
 ],
 "metadata": {
  "kernelspec": {
   "display_name": "Python 2",
   "language": "python",
   "name": "python2"
  },
  "language_info": {
   "codemirror_mode": {
    "name": "ipython",
    "version": 2
   },
   "file_extension": ".py",
   "mimetype": "text/x-python",
   "name": "python",
   "nbconvert_exporter": "python",
   "pygments_lexer": "ipython2",
   "version": "2.7.12"
  }
 },
 "nbformat": 4,
 "nbformat_minor": 2
}
