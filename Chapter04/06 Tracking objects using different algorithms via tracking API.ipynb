{
 "cells": [
  {
   "cell_type": "code",
   "execution_count": 6,
   "metadata": {
    "collapsed": true
   },
   "outputs": [],
   "source": [
    "import cv2\n",
    "import time\n",
    "import numpy as np\n",
    "import matplotlib.pyplot as plt"
   ]
  },
  {
   "cell_type": "code",
   "execution_count": 7,
   "metadata": {},
   "outputs": [
    {
     "name": "stdout",
     "output_type": "stream",
     "text": [
      "Using matplotlib backend: TkAgg\n"
     ]
    }
   ],
   "source": [
    "%matplotlib auto"
   ]
  },
  {
   "cell_type": "code",
   "execution_count": 13,
   "metadata": {},
   "outputs": [],
   "source": [
    "cv2.namedWindow('frame')\n",
    "\n",
    "for name, tracker in (('KCF', cv2.TrackerKCF_create), \n",
    "                      ('MIL', cv2.TrackerMIL_create), \n",
    "                      ('TLD', cv2.TrackerTLD_create)):\n",
    "    tracker = tracker()\n",
    "    initialized = False\n",
    "\n",
    "    video = cv2.VideoCapture('../data/traffic.mp4')\n",
    "    bbox = (878, 266, 1153-878, 475-266)\n",
    "\n",
    "    i = 0\n",
    "    while True:\n",
    "        i += 1\n",
    "        t0 = time.time()\n",
    "        ok, frame = video.read()\n",
    "        if not ok: \n",
    "            break\n",
    "\n",
    "        if initialized:\n",
    "            tracked, bbox = tracker.update(frame)\n",
    "        else:\n",
    "            cv2.imwrite('/tmp/frame.png', frame)\n",
    "            tracked = tracker.init(frame, bbox)\n",
    "            initialized = True\n",
    "\n",
    "        fps = 1 / (time.time() - t0)\n",
    "        cv2.putText(frame, 'tracker: {}, fps: {:.1f}'.format(name, fps),\n",
    "                    (20, 70), cv2.FONT_HERSHEY_SIMPLEX,  3, (255, 0, 0), 4)            \n",
    "        if tracked:\n",
    "            bbox = tuple(map(int, bbox))\n",
    "            cv2.rectangle(frame, (bbox[0], bbox[1]), \n",
    "                          (bbox[0]+bbox[2], bbox[1]+bbox[3]), \n",
    "                          (0, 255, 0), 3)\n",
    "        cv2.imshow('frame', frame)\n",
    "        if i == 50:\n",
    "            cv2.imwrite('frame{}.png'.format(name), frame)\n",
    "        if cv2.waitKey(3) == 27:\n",
    "            break\n",
    "\n",
    "cv2.destroyAllWindows()"
   ]
  },
  {
   "cell_type": "code",
   "execution_count": null,
   "metadata": {
    "collapsed": true
   },
   "outputs": [],
   "source": []
  }
 ],
 "metadata": {
  "kernelspec": {
   "display_name": "Python 3",
   "language": "python",
   "name": "python3"
  },
  "language_info": {
   "codemirror_mode": {
    "name": "ipython",
    "version": 3
   },
   "file_extension": ".py",
   "mimetype": "text/x-python",
   "name": "python",
   "nbconvert_exporter": "python",
   "pygments_lexer": "ipython3",
   "version": "3.5.2"
  }
 },
 "nbformat": 4,
 "nbformat_minor": 2
}
