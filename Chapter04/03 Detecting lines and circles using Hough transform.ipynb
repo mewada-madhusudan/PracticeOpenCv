{
 "cells": [
  {
   "cell_type": "code",
   "execution_count": 76,
   "metadata": {
    "collapsed": true
   },
   "outputs": [],
   "source": [
    "import cv2\n",
    "import numpy as np\n",
    "import matplotlib.pyplot as plt"
   ]
  },
  {
   "cell_type": "code",
   "execution_count": 86,
   "metadata": {},
   "outputs": [
    {
     "name": "stdout",
     "output_type": "stream",
     "text": [
      "Using matplotlib backend: TkAgg\n"
     ]
    }
   ],
   "source": [
    "%matplotlib auto"
   ]
  },
  {
   "cell_type": "code",
   "execution_count": 87,
   "metadata": {
    "collapsed": true
   },
   "outputs": [],
   "source": [
    "img = np.zeros((500, 500), np.uint8)"
   ]
  },
  {
   "cell_type": "code",
   "execution_count": 88,
   "metadata": {
    "collapsed": true
   },
   "outputs": [],
   "source": [
    "cv2.circle(img, (200, 200), 50, 255, 3)\n",
    "cv2.line(img, (100, 400), (400, 350), 255, 3);"
   ]
  },
  {
   "cell_type": "code",
   "execution_count": 89,
   "metadata": {
    "collapsed": true
   },
   "outputs": [],
   "source": [
    "circles = cv2.HoughCircles(img, cv2.HOUGH_GRADIENT, 1, 15, param1=200, param2=30)[0]"
   ]
  },
  {
   "cell_type": "code",
   "execution_count": 91,
   "metadata": {
    "collapsed": true
   },
   "outputs": [],
   "source": [
    "lines = cv2.HoughLinesP(img, 1, np.pi/180, 100, 100, 10)[0]"
   ]
  },
  {
   "cell_type": "code",
   "execution_count": 102,
   "metadata": {},
   "outputs": [
    {
     "name": "stdout",
     "output_type": "stream",
     "text": [
      "Detected line: (99 401) (372 353)\n",
      "Detected circle: center=(201.5 198.5), radius=50.400001525878906\n"
     ]
    }
   ],
   "source": [
    "dbg_img = np.zeros((img.shape[0], img.shape[1], 3), np.uint8)    \n",
    "for x1, y1, x2, y2 in lines:\n",
    "    print('Detected line: ({} {}) ({} {})'.format(x1, y1, x2, y2))\n",
    "    cv2.line(dbg_img, (x1, y1), (x2, y2), (0, 255, 0), 2)    \n",
    "\n",
    "for c in circles:\n",
    "    print('Detected circle: center=({} {}), radius={}'.format(c[0], c[1], c[2]))\n",
    "    cv2.circle(dbg_img, (c[0], c[1]), c[2], (0, 255, 0), 2)\n",
    "    \n",
    "plt.figure(figsize=(8,4))\n",
    "plt.subplot(121)\n",
    "plt.title('original')\n",
    "plt.axis('off')\n",
    "plt.imshow(img, cmap='gray')\n",
    "plt.subplot(122)\n",
    "plt.title('detected primitives')\n",
    "plt.axis('off')\n",
    "plt.imshow(dbg_img)\n",
    "plt.show()"
   ]
  },
  {
   "cell_type": "code",
   "execution_count": null,
   "metadata": {
    "collapsed": true
   },
   "outputs": [],
   "source": []
  }
 ],
 "metadata": {
  "kernelspec": {
   "display_name": "Python 3",
   "language": "python",
   "name": "python3"
  },
  "language_info": {
   "codemirror_mode": {
    "name": "ipython",
    "version": 3
   },
   "file_extension": ".py",
   "mimetype": "text/x-python",
   "name": "python",
   "nbconvert_exporter": "python",
   "pygments_lexer": "ipython3",
   "version": "3.5.2"
  }
 },
 "nbformat": 4,
 "nbformat_minor": 2
}
