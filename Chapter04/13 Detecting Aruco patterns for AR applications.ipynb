{
 "cells": [
  {
   "cell_type": "code",
   "execution_count": 41,
   "metadata": {},
   "outputs": [],
   "source": [
    "import cv2\n",
    "import cv2.aruco as aruco\n",
    "import numpy as np"
   ]
  },
  {
   "cell_type": "code",
   "execution_count": 44,
   "metadata": {},
   "outputs": [],
   "source": [
    "aruco_dict = aruco.getPredefinedDictionary(aruco.DICT_6X6_250)\n",
    "\n",
    "img = np.full((700, 700), 255, np.uint8)\n",
    "\n",
    "img[100:300, 100:300] = aruco.drawMarker(aruco_dict, 2, 200)\n",
    "img[100:300, 400:600] = aruco.drawMarker(aruco_dict, 76, 200)\n",
    "img[400:600, 100:300] = aruco.drawMarker(aruco_dict, 42, 200)\n",
    "img[400:600, 400:600] = aruco.drawMarker(aruco_dict, 123, 200)\n",
    "\n",
    "img = cv2.GaussianBlur(img, (11, 11), 0)\n",
    "\n",
    "cv2.imshow('Created AruCo markers', img)\n",
    "cv2.waitKey(0)\n",
    "cv2.destroyAllWindows()"
   ]
  },
  {
   "cell_type": "code",
   "execution_count": 46,
   "metadata": {},
   "outputs": [
    {
     "name": "stdout",
     "output_type": "stream",
     "text": [
      "<type 'list'>\n"
     ]
    }
   ],
   "source": [
    "aruco_dict = aruco.getPredefinedDictionary(aruco.DICT_6X6_250)\n",
    "\n",
    "corners, ids, _ = aruco.detectMarkers(img, aruco_dict)\n",
    "\n",
    "img_color = cv2.cvtColor(img, cv2.COLOR_GRAY2BGR)\n",
    "aruco.drawDetectedMarkers(img_color, corners, ids)\n",
    "\n",
    "cv2.imshow('Detected AruCo markers', img_color)\n",
    "cv2.waitKey(0)\n",
    "cv2.destroyAllWindows()"
   ]
  },
  {
   "cell_type": "code",
   "execution_count": null,
   "metadata": {},
   "outputs": [],
   "source": []
  }
 ],
 "metadata": {
  "kernelspec": {
   "display_name": "Python 2",
   "language": "python",
   "name": "python2"
  },
  "language_info": {
   "codemirror_mode": {
    "name": "ipython",
    "version": 2
   },
   "file_extension": ".py",
   "mimetype": "text/x-python",
   "name": "python",
   "nbconvert_exporter": "python",
   "pygments_lexer": "ipython2",
   "version": "2.7.12"
  }
 },
 "nbformat": 4,
 "nbformat_minor": 2
}
