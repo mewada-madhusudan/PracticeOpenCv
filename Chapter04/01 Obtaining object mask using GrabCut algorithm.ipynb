{
 "cells": [
  {
   "cell_type": "code",
   "execution_count": 1,
   "metadata": {},
   "outputs": [],
   "source": [
    "import cv2\n",
    "import numpy as np"
   ]
  },
  {
   "cell_type": "code",
   "execution_count": 2,
   "metadata": {
    "scrolled": true
   },
   "outputs": [],
   "source": [
    "img = cv2.imread('../data/Lena.png', cv2.IMREAD_COLOR)\n",
    "show_img = np.copy(img)\n",
    "\n",
    "mouse_pressed = False\n",
    "y = x = w = h = 0\n",
    "\n",
    "def mouse_callback(event, _x, _y, flags, param):\n",
    "    global show_img, x, y, w, h, mouse_pressed\n",
    "\n",
    "    if event == cv2.EVENT_LBUTTONDOWN:\n",
    "        mouse_pressed = True\n",
    "        x, y = _x, _y\n",
    "        show_img = np.copy(img)\n",
    "\n",
    "    elif event == cv2.EVENT_MOUSEMOVE:\n",
    "        if mouse_pressed:\n",
    "            show_img = np.copy(img)\n",
    "            cv2.rectangle(show_img, (x, y),\n",
    "                          (_x, _y), (0, 255, 0), 3)\n",
    "\n",
    "    elif event == cv2.EVENT_LBUTTONUP:\n",
    "        mouse_pressed = False\n",
    "        w, h = _x - x, _y - y"
   ]
  },
  {
   "cell_type": "code",
   "execution_count": 5,
   "metadata": {},
   "outputs": [],
   "source": [
    "cv2.namedWindow('image')\n",
    "cv2.setMouseCallback('image', mouse_callback)\n",
    "\n",
    "while True:\n",
    "    cv2.imshow('image', show_img)\n",
    "    k = cv2.waitKey(1)\n",
    "\n",
    "    if k == ord('a') and not mouse_pressed:\n",
    "        if w*h > 0:\n",
    "            break\n",
    "\n",
    "cv2.destroyAllWindows()"
   ]
  },
  {
   "cell_type": "code",
   "execution_count": 12,
   "metadata": {},
   "outputs": [],
   "source": [
    "labels = np.zeros(img.shape[:2],np.uint8)\n",
    "\n",
    "labels, bgdModel, fgdModel = cv2.grabCut(img, labels, (x, y, w, h), None, None, 5, cv2.GC_INIT_WITH_RECT)\n",
    "\n",
    "show_img = np.copy(img)\n",
    "show_img[(labels == cv2.GC_PR_BGD)|(labels == cv2.GC_BGD)] //= 3\n",
    "\n",
    "cv2.imshow('image', show_img)\n",
    "cv2.waitKey()\n",
    "cv2.destroyAllWindows()"
   ]
  },
  {
   "cell_type": "code",
   "execution_count": 8,
   "metadata": {},
   "outputs": [],
   "source": [
    "label = cv2.GC_BGD\n",
    "lbl_clrs = {cv2.GC_BGD: (0,0,0), cv2.GC_FGD: (255,255,255)}\n",
    "\n",
    "def mouse_callback(event, x, y, flags, param):\n",
    "    global mouse_pressed\n",
    "\n",
    "    if event == cv2.EVENT_LBUTTONDOWN:\n",
    "        mouse_pressed = True\n",
    "        cv2.circle(labels, (x, y), 5, label, cv2.FILLED)\n",
    "        cv2.circle(show_img, (x, y), 5, lbl_clrs[label], cv2.FILLED)\n",
    "\n",
    "    elif event == cv2.EVENT_MOUSEMOVE:\n",
    "        if mouse_pressed:\n",
    "            cv2.circle(labels, (x, y), 5, label, cv2.FILLED)\n",
    "            cv2.circle(show_img, (x, y), 5, lbl_clrs[label], cv2.FILLED)\n",
    "\n",
    "    elif event == cv2.EVENT_LBUTTONUP:\n",
    "        mouse_pressed = False"
   ]
  },
  {
   "cell_type": "code",
   "execution_count": 10,
   "metadata": {},
   "outputs": [],
   "source": [
    "cv2.namedWindow('image')\n",
    "cv2.setMouseCallback('image', mouse_callback)\n",
    "\n",
    "while True:\n",
    "    cv2.imshow('image', show_img)\n",
    "    k = cv2.waitKey(1)\n",
    "\n",
    "    if k == ord('a') and not mouse_pressed:\n",
    "        break\n",
    "    elif k == ord('l'):\n",
    "        label = cv2.GC_FGD - label\n",
    "\n",
    "cv2.destroyAllWindows()\n",
    "\n",
    "labels, bgdModel, fgdModel = cv2.grabCut(img, labels, None, bgdModel, fgdModel, 5, cv2.GC_INIT_WITH_MASK)\n",
    "\n",
    "show_img = np.copy(img)\n",
    "show_img[(labels == cv2.GC_PR_BGD)|(labels == cv2.GC_BGD)] //= 3\n",
    "\n",
    "cv2.imshow('image', show_img)\n",
    "cv2.waitKey()\n",
    "cv2.destroyAllWindows()"
   ]
  },
  {
   "cell_type": "code",
   "execution_count": null,
   "metadata": {},
   "outputs": [],
   "source": []
  }
 ],
 "metadata": {
  "kernelspec": {
   "display_name": "Python 3",
   "language": "python",
   "name": "python3"
  },
  "language_info": {
   "codemirror_mode": {
    "name": "ipython",
    "version": 3
   },
   "file_extension": ".py",
   "mimetype": "text/x-python",
   "name": "python",
   "nbconvert_exporter": "python",
   "pygments_lexer": "ipython3",
   "version": "3.6.4"
  }
 },
 "nbformat": 4,
 "nbformat_minor": 2
}
