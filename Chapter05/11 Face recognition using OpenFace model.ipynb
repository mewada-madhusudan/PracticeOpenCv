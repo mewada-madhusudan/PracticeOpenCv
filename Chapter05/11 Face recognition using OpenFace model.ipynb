{
 "cells": [
  {
   "cell_type": "code",
   "execution_count": 2,
   "metadata": {},
   "outputs": [],
   "source": [
    "import cv2\n",
    "import numpy as np"
   ]
  },
  {
   "cell_type": "code",
   "execution_count": 3,
   "metadata": {},
   "outputs": [],
   "source": [
    "model = cv2.dnn.readNetFromCaffe('../data/face_detector/deploy.prototxt', \n",
    "                                 '../data/face_detector/res10_300x300_ssd_iter_140000.caffemodel')\n",
    "CONF_THR = 0.5"
   ]
  },
  {
   "cell_type": "code",
   "execution_count": 8,
   "metadata": {},
   "outputs": [],
   "source": [
    "video = cv2.VideoCapture('../data/faces.mp4')\n",
    "c = 0\n",
    "while True:\n",
    "    ret, frame = video.read()\n",
    "    if not ret: break\n",
    "        \n",
    "    h, w = frame.shape[0:2]\n",
    "    blob = cv2.dnn.blobFromImage(frame, 1, (300*w//h,300), (104,177,123), False)\n",
    "    model.setInput(blob)\n",
    "    output = model.forward()\n",
    "    \n",
    "    for i in range(output.shape[2]):\n",
    "        conf = output[0,0,i,2]\n",
    "        if conf > CONF_THR:\n",
    "            label = output[0,0,i,1]\n",
    "            x0,y0,x1,y1 = (output[0,0,i,3:7] * [w,h,w,h]).astype(int)\n",
    "            cv2.rectangle(frame, (x0,y0), (x1,y1), (0,255,0), 2)\n",
    "            cv2.putText(frame, 'conf: {:.2f}'.format(conf), (x0,y0),\n",
    "                        cv2.FONT_HERSHEY_SIMPLEX, 1, (0,255,0), 2)\n",
    "    \n",
    "    c += 1\n",
    "    if c == 60:\n",
    "        cv2.imwrite('/home/alexeysp/projects/recipes/figures/ch5_face_detections.png', frame)\n",
    "    \n",
    "    cv2.imshow('frame', frame)\n",
    "    key = cv2.waitKey(3)\n",
    "    if key == 27: break\n",
    "        \n",
    "cv2.destroyAllWindows()"
   ]
  },
  {
   "cell_type": "code",
   "execution_count": null,
   "metadata": {},
   "outputs": [],
   "source": []
  }
 ],
 "metadata": {
  "kernelspec": {
   "display_name": "Python 3",
   "language": "python",
   "name": "python3"
  },
  "language_info": {
   "codemirror_mode": {
    "name": "ipython",
    "version": 3
   },
   "file_extension": ".py",
   "mimetype": "text/x-python",
   "name": "python",
   "nbconvert_exporter": "python",
   "pygments_lexer": "ipython3",
   "version": "3.6.4"
  }
 },
 "nbformat": 4,
 "nbformat_minor": 2
}
