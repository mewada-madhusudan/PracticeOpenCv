{
 "cells": [
  {
   "cell_type": "code",
   "execution_count": 105,
   "metadata": {},
   "outputs": [
    {
     "name": "stdout",
     "output_type": "stream",
     "text": [
      "Using matplotlib backend: TkAgg\n"
     ]
    }
   ],
   "source": [
    "import cv2\n",
    "import numpy as np\n",
    "import matplotlib.pyplot as plt\n",
    "%matplotlib auto"
   ]
  },
  {
   "cell_type": "code",
   "execution_count": 84,
   "metadata": {},
   "outputs": [],
   "source": [
    "age_model = cv2.dnn.readNetFromCaffe('../data/age_gender/age_net_deploy.prototxt',\n",
    "                                     '../data/age_gender/age_net.caffemodel')\n",
    "gender_model = cv2.dnn.readNetFromCaffe('../data/age_gender/gender_net_deploy.prototxt',\n",
    "                                        '../data/age_gender/gender_net.caffemodel')"
   ]
  },
  {
   "cell_type": "code",
   "execution_count": 85,
   "metadata": {},
   "outputs": [
    {
     "name": "stdout",
     "output_type": "stream",
     "text": [
      "(1, 3, 256, 256) float64\n"
     ]
    }
   ],
   "source": [
    "mean_blob = np.load('../data/age_gender/mean.npy')\n",
    "print(mean_blob.shape, mean_blob.dtype)"
   ]
  },
  {
   "cell_type": "code",
   "execution_count": 97,
   "metadata": {},
   "outputs": [],
   "source": [
    "orig_frame = cv2.imread('../data/face.jpeg')\n",
    "dx = (orig_frame.shape[1]-orig_frame.shape[0]) // 2\n",
    "orig_frame = orig_frame[:,dx:dx+orig_frame.shape[0]]"
   ]
  },
  {
   "cell_type": "code",
   "execution_count": 98,
   "metadata": {},
   "outputs": [],
   "source": [
    "frame = cv2.resize(orig_frame, (256,256)).astype(np.float32)\n",
    "frame -= np.transpose(mean_blob[0], (1,2,0))"
   ]
  },
  {
   "cell_type": "code",
   "execution_count": 99,
   "metadata": {},
   "outputs": [],
   "source": [
    "AGE_LIST = ['(0, 2)','(4, 6)','(8, 12)','(15, 20)',\n",
    "            '(25, 32)','(38, 43)','(48, 53)','(60, 100)']\n",
    "GENDER_LIST = ['male','female']"
   ]
  },
  {
   "cell_type": "code",
   "execution_count": 103,
   "metadata": {},
   "outputs": [
    {
     "name": "stdout",
     "output_type": "stream",
     "text": [
      "Gender: female with prob: 0.9362890720367432\n"
     ]
    }
   ],
   "source": [
    "blob = cv2.dnn.blobFromImage(frame, 1, (256,256))\n",
    "gender_model.setInput(blob)\n",
    "gender_prob = gender_model.forward()\n",
    "gender_id = np.argmax(gender_prob)\n",
    "print('Gender: {} with prob: {}'.format(GENDER_LIST[gender_id], gender_prob[0, gender_id]))"
   ]
  },
  {
   "cell_type": "code",
   "execution_count": 104,
   "metadata": {},
   "outputs": [
    {
     "name": "stdout",
     "output_type": "stream",
     "text": [
      "Age group: (25, 32) with prob: 0.9811384081840515\n"
     ]
    }
   ],
   "source": [
    "age_model.setInput(blob)\n",
    "age_prob = age_model.forward()\n",
    "age_id = np.argmax(age_prob)\n",
    "print('Age group: {} with prob: {}'.format(AGE_LIST[age_id], age_prob[0, age_id]))"
   ]
  },
  {
   "cell_type": "code",
   "execution_count": 106,
   "metadata": {},
   "outputs": [],
   "source": [
    "plt.figure(figsize=(6,6))\n",
    "plt.title('original')\n",
    "plt.axis('off')\n",
    "plt.imshow(orig_frame[:,:,[2,1,0]])\n",
    "plt.show()"
   ]
  },
  {
   "cell_type": "code",
   "execution_count": null,
   "metadata": {},
   "outputs": [],
   "source": []
  },
  {
   "cell_type": "code",
   "execution_count": null,
   "metadata": {},
   "outputs": [],
   "source": []
  }
 ],
 "metadata": {
  "kernelspec": {
   "display_name": "Python 3",
   "language": "python",
   "name": "python3"
  },
  "language_info": {
   "codemirror_mode": {
    "name": "ipython",
    "version": 3
   },
   "file_extension": ".py",
   "mimetype": "text/x-python",
   "name": "python",
   "nbconvert_exporter": "python",
   "pygments_lexer": "ipython3",
   "version": "3.6.4"
  }
 },
 "nbformat": 4,
 "nbformat_minor": 2
}
