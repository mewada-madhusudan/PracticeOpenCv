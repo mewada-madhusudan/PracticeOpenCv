{
 "cells": [
  {
   "cell_type": "code",
   "execution_count": 7,
   "metadata": {},
   "outputs": [],
   "source": [
    "import cv2\n",
    "import numpy as np"
   ]
  },
  {
   "cell_type": "code",
   "execution_count": 8,
   "metadata": {},
   "outputs": [],
   "source": [
    "model = cv2.dnn.readNetFromCaffe('../data/MobileNetSSD_deploy.prototxt',\n",
    "                                 '../data/MobileNetSSD_deploy.caffemodel')"
   ]
  },
  {
   "cell_type": "code",
   "execution_count": 9,
   "metadata": {},
   "outputs": [],
   "source": [
    "CONF_THR = 0.3\n",
    "LABELS = {1: 'aeroplane', 2: 'bicycle', 3: 'bird', 4: 'boat',\n",
    "          5: 'bottle', 6: 'bus', 7: 'car', 8: 'cat', 9: 'chair',\n",
    "          10: 'cow', 11: 'diningtable', 12: 'dog', 13: 'horse',\n",
    "          14: 'motorbike', 15: 'person', 16: 'pottedplant',\n",
    "          17: 'sheep', 18: 'sofa', 19: 'train', 20: 'tvmonitor'}"
   ]
  },
  {
   "cell_type": "code",
   "execution_count": 11,
   "metadata": {},
   "outputs": [],
   "source": [
    "video = cv2.VideoCapture('../data/traffic.mp4')\n",
    "\n",
    "c=0\n",
    "while True:\n",
    "    ret, frame = video.read()\n",
    "    if not ret: break\n",
    "        \n",
    "    h, w = frame.shape[0:2]\n",
    "    blob = cv2.dnn.blobFromImage(frame, 1/127.5, (300*w//h,300),\n",
    "                                 (127.5,127.5,127.5), False)\n",
    "    model.setInput(blob)\n",
    "    output = model.forward()\n",
    "    \n",
    "    for i in range(output.shape[2]):\n",
    "        conf = output[0,0,i,2]\n",
    "        if conf > CONF_THR:\n",
    "            label = output[0,0,i,1]\n",
    "            x0,y0,x1,y1 = (output[0,0,i,3:7] * [w,h,w,h]).astype(int)\n",
    "            cv2.rectangle(frame, (x0,y0), (x1,y1), (0,255,0), 2)\n",
    "            cv2.putText(frame, '{}: {:.2f}'.format(LABELS[label], conf), \n",
    "                        (x0,y0), cv2.FONT_HERSHEY_SIMPLEX, 1, (0,255,0), 2)\n",
    "    \n",
    "    c += 1\n",
    "    if c == 100:\n",
    "        cv2.imwrite('/home/alexeysp/projects/recipes/figures/ch5_car_detections.png', frame)\n",
    "    \n",
    "    cv2.imshow('frame', frame)\n",
    "    key = cv2.waitKey(3)\n",
    "    if key == 27: break\n",
    "        \n",
    "cv2.destroyAllWindows()"
   ]
  },
  {
   "cell_type": "code",
   "execution_count": null,
   "metadata": {
    "collapsed": true
   },
   "outputs": [],
   "source": []
  }
 ],
 "metadata": {
  "kernelspec": {
   "display_name": "Python 3",
   "language": "python",
   "name": "python3"
  },
  "language_info": {
   "codemirror_mode": {
    "name": "ipython",
    "version": 3
   },
   "file_extension": ".py",
   "mimetype": "text/x-python",
   "name": "python",
   "nbconvert_exporter": "python",
   "pygments_lexer": "ipython3",
   "version": "3.6.4"
  }
 },
 "nbformat": 4,
 "nbformat_minor": 2
}
