{
 "cells": [
  {
   "cell_type": "code",
   "execution_count": 1,
   "metadata": {},
   "outputs": [],
   "source": [
    "import cv2\n",
    "import numpy as np"
   ]
  },
  {
   "cell_type": "code",
   "execution_count": 2,
   "metadata": {},
   "outputs": [],
   "source": [
    "model = cv2.dnn.readNetFromCaffe('../data/bvlc_googlenet.prototxt',\n",
    "                                 '../data/bvlc_googlenet.caffemodel')"
   ]
  },
  {
   "cell_type": "code",
   "execution_count": 27,
   "metadata": {},
   "outputs": [
    {
     "name": "stdout",
     "output_type": "stream",
     "text": [
      "gflops: 3.1904431360000003\n"
     ]
    }
   ],
   "source": [
    "print('gflops:', model.getFLOPS((1,3,224,224))*1e-9)"
   ]
  },
  {
   "cell_type": "code",
   "execution_count": 29,
   "metadata": {},
   "outputs": [
    {
     "name": "stdout",
     "output_type": "stream",
     "text": [
      "weights (mb): 27.994208 , blobs (mb): 45.92096\n"
     ]
    }
   ],
   "source": [
    "w,b = model.getMemoryConsumption((1,3,224,224))\n",
    "print('weights (mb):', w*1e-6, ', blobs (mb):', b*1e-6)"
   ]
  },
  {
   "cell_type": "code",
   "execution_count": 26,
   "metadata": {},
   "outputs": [],
   "source": [
    "blob = cv2.dnn.blobFromImage(np.zeros((224,224,3), np.uint8), 1, (224,224))\n",
    "model.setInput(blob)\n",
    "model.forward();"
   ]
  },
  {
   "cell_type": "code",
   "execution_count": 31,
   "metadata": {},
   "outputs": [
    {
     "name": "stdout",
     "output_type": "stream",
     "text": [
      "inference (ms): 83.478832\n"
     ]
    }
   ],
   "source": [
    "total,timings = model.getPerfProfile()\n",
    "tick2ms = 1e3/cv2.getTickFrequency()\n",
    "print('inference (ms): {:2f}'.format(total*tick2ms))"
   ]
  },
  {
   "cell_type": "code",
   "execution_count": 60,
   "metadata": {},
   "outputs": [
    {
     "name": "stdout",
     "output_type": "stream",
     "text": [
      "LAYER                          TIME (ms)\n",
      "conv1/7x7_s2                   4.57\n",
      "conv1/relu_7x7                 0.00\n",
      "pool1/3x3_s2                   0.74\n",
      "pool1/norm1                    1.49\n",
      "conv2/3x3_reduce               0.57\n",
      "conv2/relu_3x3_reduce          0.00\n",
      "conv2/3x3                      11.53\n",
      "conv2/relu_3x3                 0.00\n",
      "conv2/norm2                    3.35\n",
      "pool2/3x3_s2                   0.90\n",
      "inception_3a/1x1               0.55\n",
      "inception_3a/relu_1x1          0.00\n",
      "inception_3a/3x3_reduce        0.98\n",
      "inception_3a/relu_3x3_reduce   0.00\n",
      "inception_3a/3x3               2.93\n",
      "inception_3a/relu_3x3          0.00\n",
      "inception_3a/5x5_reduce        0.37\n",
      "inception_3a/relu_5x5_reduce   0.00\n",
      "inception_3a/5x5               0.49\n",
      "inception_3a/relu_5x5          0.00\n",
      "inception_3a/pool              0.53\n",
      "inception_3a/pool_proj         0.37\n",
      "inception_3a/relu_pool_proj    0.00\n",
      "inception_3a/output            0.00\n",
      "inception_3b/1x1               1.21\n",
      "inception_3b/relu_1x1          0.00\n",
      "inception_3b/3x3_reduce        0.99\n",
      "inception_3b/relu_3x3_reduce   0.00\n",
      "inception_3b/3x3               7.60\n",
      "inception_3b/relu_3x3          0.00\n",
      "inception_3b/5x5_reduce        0.43\n",
      "inception_3b/relu_5x5_reduce   0.00\n",
      "inception_3b/5x5               2.15\n",
      "inception_3b/relu_5x5          0.00\n",
      "inception_3b/pool              0.70\n",
      "inception_3b/pool_proj         0.59\n",
      "inception_3b/relu_pool_proj    0.00\n",
      "inception_3b/output            0.00\n",
      "pool3/3x3_s2                   0.69\n",
      "inception_4a/1x1               1.19\n",
      "inception_4a/relu_1x1          0.00\n",
      "inception_4a/3x3_reduce        0.57\n",
      "inception_4a/relu_3x3_reduce   0.00\n",
      "inception_4a/3x3               1.08\n",
      "inception_4a/relu_3x3          0.00\n",
      "inception_4a/5x5_reduce        0.15\n",
      "inception_4a/relu_5x5_reduce   0.00\n",
      "inception_4a/5x5               0.22\n",
      "inception_4a/relu_5x5          0.00\n",
      "inception_4a/pool              0.59\n",
      "inception_4a/pool_proj         0.44\n",
      "inception_4a/relu_pool_proj    0.00\n",
      "inception_4a/output            0.00\n",
      "inception_4b/1x1               0.74\n",
      "inception_4b/relu_1x1          0.00\n",
      "inception_4b/3x3_reduce        0.70\n",
      "inception_4b/relu_3x3_reduce   0.00\n",
      "inception_4b/3x3               1.71\n",
      "inception_4b/relu_3x3          0.00\n",
      "inception_4b/5x5_reduce        0.23\n",
      "inception_4b/relu_5x5_reduce   0.00\n",
      "inception_4b/5x5               0.31\n",
      "inception_4b/relu_5x5          0.00\n",
      "inception_4b/pool              0.50\n",
      "inception_4b/pool_proj         0.40\n",
      "inception_4b/relu_pool_proj    0.00\n",
      "inception_4b/output            0.00\n",
      "inception_4c/1x1               0.55\n",
      "inception_4c/relu_1x1          0.00\n",
      "inception_4c/3x3_reduce        0.59\n",
      "inception_4c/relu_3x3_reduce   0.00\n",
      "inception_4c/3x3               2.36\n",
      "inception_4c/relu_3x3          0.00\n",
      "inception_4c/5x5_reduce        0.22\n",
      "inception_4c/relu_5x5_reduce   0.00\n",
      "inception_4c/5x5               0.30\n",
      "inception_4c/relu_5x5          0.00\n",
      "inception_4c/pool              0.77\n",
      "inception_4c/pool_proj         1.15\n",
      "inception_4c/relu_pool_proj    0.00\n",
      "inception_4c/output            0.00\n",
      "inception_4d/1x1               0.91\n",
      "inception_4d/relu_1x1          0.00\n",
      "inception_4d/3x3_reduce        1.20\n",
      "inception_4d/relu_3x3_reduce   0.00\n",
      "inception_4d/3x3               3.88\n",
      "inception_4d/relu_3x3          0.00\n",
      "inception_4d/5x5_reduce        0.37\n",
      "inception_4d/relu_5x5_reduce   0.00\n",
      "inception_4d/5x5               0.55\n",
      "inception_4d/relu_5x5          0.00\n",
      "inception_4d/pool              0.42\n",
      "inception_4d/pool_proj         0.25\n",
      "inception_4d/relu_pool_proj    0.00\n",
      "inception_4d/output            0.00\n",
      "inception_4e/1x1               0.92\n",
      "inception_4e/relu_1x1          0.00\n",
      "inception_4e/3x3_reduce        0.59\n",
      "inception_4e/relu_3x3_reduce   0.00\n",
      "inception_4e/3x3               2.41\n",
      "inception_4e/relu_3x3          0.00\n",
      "inception_4e/5x5_reduce        0.20\n",
      "inception_4e/relu_5x5_reduce   0.00\n",
      "inception_4e/5x5               0.65\n",
      "inception_4e/relu_5x5          0.00\n",
      "inception_4e/pool              0.39\n",
      "inception_4e/pool_proj         0.48\n",
      "inception_4e/relu_pool_proj    0.00\n",
      "inception_4e/output            0.00\n",
      "pool4/3x3_s2                   0.34\n",
      "inception_5a/1x1               0.65\n",
      "inception_5a/relu_1x1          0.00\n",
      "inception_5a/3x3_reduce        0.45\n",
      "inception_5a/relu_3x3_reduce   0.00\n",
      "inception_5a/3x3               1.27\n",
      "inception_5a/relu_3x3          0.00\n",
      "inception_5a/5x5_reduce        0.28\n",
      "inception_5a/relu_5x5_reduce   0.00\n",
      "inception_5a/5x5               0.81\n",
      "inception_5a/relu_5x5          0.00\n",
      "inception_5a/pool              0.47\n",
      "inception_5a/pool_proj         0.80\n",
      "inception_5a/relu_pool_proj    0.00\n",
      "inception_5a/output            0.00\n",
      "inception_5b/1x1               1.00\n",
      "inception_5b/relu_1x1          0.00\n",
      "inception_5b/3x3_reduce        0.51\n",
      "inception_5b/relu_3x3_reduce   0.00\n",
      "inception_5b/3x3               3.30\n",
      "inception_5b/relu_3x3          0.00\n",
      "inception_5b/5x5_reduce        0.21\n",
      "inception_5b/relu_5x5_reduce   0.00\n",
      "inception_5b/5x5               0.63\n",
      "inception_5b/relu_5x5          0.00\n",
      "inception_5b/pool              0.34\n",
      "inception_5b/pool_proj         0.35\n",
      "inception_5b/relu_pool_proj    0.00\n",
      "inception_5b/output            0.00\n",
      "pool5/7x7_s1                   0.07\n",
      "pool5/drop_7x7_s1              0.00\n",
      "loss3/classifier               0.30\n",
      "prob                           0.02\n"
     ]
    }
   ],
   "source": [
    "layer_names = model.getLayerNames()\n",
    "print('{: <30} {}'.format('LAYER', 'TIME (ms)'))\n",
    "for (i,t) in enumerate(timings):\n",
    "    print('{: <30} {:.2f}'.format(layer_names[i], t[0]*tick2ms))"
   ]
  },
  {
   "cell_type": "code",
   "execution_count": null,
   "metadata": {},
   "outputs": [],
   "source": []
  }
 ],
 "metadata": {
  "kernelspec": {
   "display_name": "Python 3",
   "language": "python",
   "name": "python3"
  },
  "language_info": {
   "codemirror_mode": {
    "name": "ipython",
    "version": 3
   },
   "file_extension": ".py",
   "mimetype": "text/x-python",
   "name": "python",
   "nbconvert_exporter": "python",
   "pygments_lexer": "ipython3",
   "version": "3.6.4"
  }
 },
 "nbformat": 4,
 "nbformat_minor": 2
}
