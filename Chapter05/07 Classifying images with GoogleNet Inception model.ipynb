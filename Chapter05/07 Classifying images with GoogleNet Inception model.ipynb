{
 "cells": [
  {
   "cell_type": "code",
   "execution_count": 1,
   "metadata": {
    "collapsed": true
   },
   "outputs": [],
   "source": [
    "import cv2\n",
    "import numpy as np"
   ]
  },
  {
   "cell_type": "code",
   "execution_count": 2,
   "metadata": {
    "collapsed": true
   },
   "outputs": [],
   "source": [
    "def classify(video_src, net, in_layer, out_layer, \n",
    "             mean_val, category_names, swap_channels=False):\n",
    "    cap = cv2.VideoCapture(video_src)\n",
    "\n",
    "    t = 0\n",
    "    \n",
    "    while True:\n",
    "        status_cap, frame = cap.read()\n",
    "        if not status_cap:\n",
    "            break\n",
    "\n",
    "        if isinstance(mean_val, np.ndarray):\n",
    "            tensor = cv2.dnn.blobFromImage(frame, 1.0, (224, 224),\n",
    "                       1.0, False);\n",
    "            tensor -= mean_val\n",
    "        else:\n",
    "            tensor = cv2.dnn.blobFromImage(frame, 1.0, (224, 224),\n",
    "                                   mean_val, swap_channels);\n",
    "        net.setInput(tensor, in_layer);\n",
    "        prob = net.forward(out_layer);\n",
    "\n",
    "        prob = prob.flatten()\n",
    "\n",
    "        r = 1\n",
    "        for i in np.argsort(prob)[-5:]:\n",
    "            txt = '\"%s\"; probability: %.2f' % (category_names[i], prob[i])\n",
    "            cv2.putText(frame, txt, (0, frame.shape[0] - r*40), \n",
    "                        cv2.FONT_HERSHEY_SIMPLEX, 1, (0, 255, 0), 2);\n",
    "            r += 1\n",
    "\n",
    "        cv2.imshow('classification', frame)\n",
    "        if cv2.waitKey(1) == 27:\n",
    "            break\n",
    "        \n",
    "    cv2.destroyAllWindows()\n",
    "    cap.release()"
   ]
  },
  {
   "cell_type": "code",
   "execution_count": 3,
   "metadata": {
    "collapsed": true
   },
   "outputs": [],
   "source": [
    "with open('../data/synset_words.txt') as f:\n",
    "    class_names = [' '.join(l.split(' ')[1: ]).rstrip() for l in f.readlines()]"
   ]
  },
  {
   "cell_type": "code",
   "execution_count": 4,
   "metadata": {
    "collapsed": true
   },
   "outputs": [],
   "source": [
    "googlenet_caffe = cv2.dnn.readNetFromCaffe('../data/bvlc_googlenet.prototxt', \n",
    "                                           '../data/bvlc_googlenet.caffemodel')\n",
    "\n",
    "classify('../data/shuttle.mp4', googlenet_caffe, 'data', 'prob', (104, 117, 123), class_names)"
   ]
  },
  {
   "cell_type": "code",
   "execution_count": 5,
   "metadata": {
    "collapsed": true
   },
   "outputs": [],
   "source": [
    "resnet_caffe = cv2.dnn.readNetFromCaffe('../data/resnet_50.prototxt', \n",
    "                                           '../data/resnet_50.caffemodel')\n",
    "mean = np.load('../data/resnet_50_mean.npy')\n",
    "\n",
    "classify('../data/shuttle.mp4', resnet_caffe, 'data', 'prob', mean, class_names)"
   ]
  },
  {
   "cell_type": "code",
   "execution_count": 6,
   "metadata": {
    "collapsed": true
   },
   "outputs": [],
   "source": [
    "with open('../data/imagenet_comp_graph_label_strings.txt') as f:\n",
    "    class_names = [l.rstrip() for l in f.readlines()]\n",
    "\n",
    "googlenet_tf = cv2.dnn.readNetFromTensorflow('../data/tensorflow_inception_graph.pb')\n",
    "\n",
    "classify('../data/shuttle.mp4', googlenet_tf, \n",
    "         'input', 'softmax2', 117, class_names, True)"
   ]
  },
  {
   "cell_type": "code",
   "execution_count": null,
   "metadata": {
    "collapsed": true
   },
   "outputs": [],
   "source": []
  }
 ],
 "metadata": {
  "kernelspec": {
   "display_name": "Python 3",
   "language": "python",
   "name": "python3"
  },
  "language_info": {
   "codemirror_mode": {
    "name": "ipython",
    "version": 3
   },
   "file_extension": ".py",
   "mimetype": "text/x-python",
   "name": "python",
   "nbconvert_exporter": "python",
   "pygments_lexer": "ipython3",
   "version": "3.5.2"
  }
 },
 "nbformat": 4,
 "nbformat_minor": 2
}
