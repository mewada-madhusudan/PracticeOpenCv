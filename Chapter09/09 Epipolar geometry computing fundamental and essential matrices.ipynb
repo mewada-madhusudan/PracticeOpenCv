{
 "cells": [
  {
   "cell_type": "code",
   "execution_count": 1,
   "metadata": {},
   "outputs": [],
   "source": [
    "import cv2\n",
    "import numpy as np"
   ]
  },
  {
   "cell_type": "code",
   "execution_count": 75,
   "metadata": {},
   "outputs": [],
   "source": [
    "data = np.load('../data/stereo/case1/stereo.npy').item()\n",
    "Kl, Kr, Dl, Dr, left_pts, right_pts, E_from_stereo, F_from_stereo = \\\n",
    "    data['Kl'], data['Kr'], data['Dl'], data['Dr'], \\\n",
    "    data['left_pts'], data['right_pts'], data['E'], data['F']"
   ]
  },
  {
   "cell_type": "code",
   "execution_count": 76,
   "metadata": {},
   "outputs": [],
   "source": [
    "left_pts = np.vstack(left_pts)\n",
    "right_pts = np.vstack(right_pts)"
   ]
  },
  {
   "cell_type": "code",
   "execution_count": 77,
   "metadata": {},
   "outputs": [],
   "source": [
    "left_pts = cv2.undistortPoints(left_pts, Kl, Dl, P=Kl)\n",
    "right_pts = cv2.undistortPoints(right_pts, Kr, Dr, P=Kr)"
   ]
  },
  {
   "cell_type": "code",
   "execution_count": 83,
   "metadata": {},
   "outputs": [],
   "source": [
    "F, mask = cv2.findFundamentalMat(left_pts, right_pts, cv2.FM_LMEDS)"
   ]
  },
  {
   "cell_type": "code",
   "execution_count": 79,
   "metadata": {},
   "outputs": [
    {
     "data": {
      "text/plain": [
       "array([[  1.60938825e-08,  -2.23906409e-06,  -2.53850603e-04],\n",
       "       [  2.97226703e-06,  -2.38236386e-07,  -7.70276666e-02],\n",
       "       [ -2.55190056e-04,   7.69760820e-02,   1.00000000e+00]])"
      ]
     },
     "execution_count": 79,
     "metadata": {},
     "output_type": "execute_result"
    }
   ],
   "source": [
    "F"
   ]
  },
  {
   "cell_type": "code",
   "execution_count": 80,
   "metadata": {},
   "outputs": [],
   "source": [
    "E = Kr.T @ F @ Kl"
   ]
  },
  {
   "cell_type": "code",
   "execution_count": 84,
   "metadata": {},
   "outputs": [
    {
     "name": "stdout",
     "output_type": "stream",
     "text": [
      "Fundamental matrix:\n",
      "[[  1.60938825e-08  -2.23906409e-06  -2.53850603e-04]\n",
      " [  2.97226703e-06  -2.38236386e-07  -7.70276666e-02]\n",
      " [ -2.55190056e-04   7.69760820e-02   1.00000000e+00]]\n",
      "Essential matrix:\n",
      "[[  4.62585055e-03  -6.43487140e-01  -4.17486092e-01]\n",
      " [  8.53590806e-01  -6.84088948e-02  -4.08817705e+01]\n",
      " [  2.63679084e-01   4.07046349e+01  -2.20825664e-01]]\n"
     ]
    }
   ],
   "source": [
    "print('Fundamental matrix:')\n",
    "print(F)\n",
    "print('Essential matrix:')\n",
    "print(E)"
   ]
  },
  {
   "cell_type": "code",
   "execution_count": null,
   "metadata": {},
   "outputs": [],
   "source": []
  }
 ],
 "metadata": {
  "kernelspec": {
   "display_name": "Python 3",
   "language": "python",
   "name": "python3"
  },
  "language_info": {
   "codemirror_mode": {
    "name": "ipython",
    "version": 3
   },
   "file_extension": ".py",
   "mimetype": "text/x-python",
   "name": "python",
   "nbconvert_exporter": "python",
   "pygments_lexer": "ipython3",
   "version": "3.6.4"
  }
 },
 "nbformat": 4,
 "nbformat_minor": 2
}
