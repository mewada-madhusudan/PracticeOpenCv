{
 "cells": [
  {
   "cell_type": "code",
   "execution_count": 1,
   "metadata": {},
   "outputs": [],
   "source": [
    "import cv2\n",
    "import numpy as np"
   ]
  },
  {
   "cell_type": "code",
   "execution_count": 2,
   "metadata": {},
   "outputs": [],
   "source": [
    "data = np.load('../data/stereo/case1/stereo.npy').item()\n",
    "E = data['E']"
   ]
  },
  {
   "cell_type": "code",
   "execution_count": 3,
   "metadata": {},
   "outputs": [],
   "source": [
    "R1, R2, T = cv2.decomposeEssentialMat(E)"
   ]
  },
  {
   "cell_type": "code",
   "execution_count": 4,
   "metadata": {},
   "outputs": [
    {
     "name": "stdout",
     "output_type": "stream",
     "text": [
      "Rotation 1:\n",
      "[[ 0.99981105 -0.01867927  0.00538031]\n",
      " [-0.01870903 -0.99980965  0.00553437]\n",
      " [ 0.00527591 -0.00563399 -0.99997021]]\n",
      "Rotation 2:\n",
      "[[ 0.99998995  0.00355598  0.00273003]\n",
      " [-0.00354058  0.99997791 -0.00562461]\n",
      " [-0.00274997  0.00561489  0.99998046]]\n",
      "Translation:\n",
      "[[ 0.99993732]\n",
      " [-0.01112522]\n",
      " [ 0.00126302]]\n"
     ]
    }
   ],
   "source": [
    "print('Rotation 1:')\n",
    "print(R1)\n",
    "print('Rotation 2:')\n",
    "print(R2)\n",
    "print('Translation:')\n",
    "print(T)"
   ]
  },
  {
   "cell_type": "code",
   "execution_count": null,
   "metadata": {},
   "outputs": [],
   "source": []
  }
 ],
 "metadata": {
  "kernelspec": {
   "display_name": "Python 3",
   "language": "python",
   "name": "python3"
  },
  "language_info": {
   "codemirror_mode": {
    "name": "ipython",
    "version": 3
   },
   "file_extension": ".py",
   "mimetype": "text/x-python",
   "name": "python",
   "nbconvert_exporter": "python",
   "pygments_lexer": "ipython3",
   "version": "3.6.4"
  }
 },
 "nbformat": 4,
 "nbformat_minor": 2
}
