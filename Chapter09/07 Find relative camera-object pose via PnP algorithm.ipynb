{
 "cells": [
  {
   "cell_type": "code",
   "execution_count": 1,
   "metadata": {},
   "outputs": [],
   "source": [
    "import cv2\n",
    "import numpy as np"
   ]
  },
  {
   "cell_type": "code",
   "execution_count": 2,
   "metadata": {},
   "outputs": [],
   "source": [
    "camera_matrix = np.load('../data/pinhole_calib/camera_mat.npy')\n",
    "dist_coefs = np.load('../data/pinhole_calib/dist_coefs.npy')\n",
    "img = cv2.imread('../data/pinhole_calib/img_00.png')"
   ]
  },
  {
   "cell_type": "code",
   "execution_count": 3,
   "metadata": {},
   "outputs": [],
   "source": [
    "pattern_size = (10, 7)\n",
    "res, corners = cv2.findChessboardCorners(img, pattern_size)\n",
    "criteria = (cv2.TERM_CRITERIA_EPS + cv2.TERM_CRITERIA_MAX_ITER, 30, 1e-3)\n",
    "corners = cv2.cornerSubPix(cv2.cvtColor(img, cv2.COLOR_BGR2GRAY), \n",
    "                           corners, (10, 10), (-1,-1), criteria)"
   ]
  },
  {
   "cell_type": "code",
   "execution_count": 4,
   "metadata": {},
   "outputs": [],
   "source": [
    "pattern_points = np.zeros((np.prod(pattern_size), 3), np.float32)\n",
    "pattern_points[:, :2] = np.indices(pattern_size).T.reshape(-1, 2)"
   ]
  },
  {
   "cell_type": "code",
   "execution_count": 5,
   "metadata": {},
   "outputs": [],
   "source": [
    "ret, rvec, tvec = cv2.solvePnP(pattern_points, corners, camera_matrix, dist_coefs, \n",
    "                               None, None, False, cv2.SOLVEPNP_ITERATIVE)"
   ]
  },
  {
   "cell_type": "code",
   "execution_count": 6,
   "metadata": {},
   "outputs": [],
   "source": [
    "img_points, _ = cv2.projectPoints(pattern_points, rvec, tvec, camera_matrix, dist_coefs)\n",
    "\n",
    "for c in img_points.squeeze():\n",
    "    cv2.circle(img, tuple(c), 10, (0, 255, 0), 2)\n",
    "\n",
    "cv2.imshow('points', img)\n",
    "cv2.waitKey()\n",
    "\n",
    "cv2.destroyAllWindows()"
   ]
  },
  {
   "cell_type": "code",
   "execution_count": null,
   "metadata": {},
   "outputs": [],
   "source": []
  }
 ],
 "metadata": {
  "kernelspec": {
   "display_name": "Python 3",
   "language": "python",
   "name": "python3"
  },
  "language_info": {
   "codemirror_mode": {
    "name": "ipython",
    "version": 3
   },
   "file_extension": ".py",
   "mimetype": "text/x-python",
   "name": "python",
   "nbconvert_exporter": "python",
   "pygments_lexer": "ipython3",
   "version": "3.6.4"
  }
 },
 "nbformat": 4,
 "nbformat_minor": 2
}
