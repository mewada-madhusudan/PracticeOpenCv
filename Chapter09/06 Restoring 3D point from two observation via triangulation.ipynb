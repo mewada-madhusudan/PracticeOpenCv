{
 "cells": [
  {
   "cell_type": "code",
   "execution_count": 2,
   "metadata": {},
   "outputs": [],
   "source": [
    "import cv2\n",
    "import numpy as np"
   ]
  },
  {
   "cell_type": "code",
   "execution_count": 63,
   "metadata": {},
   "outputs": [],
   "source": [
    "P1 = np.eye(3, 4, dtype=np.float32)\n",
    "P2 = np.eye(3, 4, dtype=np.float32)\n",
    "P2[0, 3] = -1"
   ]
  },
  {
   "cell_type": "code",
   "execution_count": 70,
   "metadata": {},
   "outputs": [],
   "source": [
    "N = 5\n",
    "points3d = np.empty((4, N), np.float32)\n",
    "points3d[:3, :] = np.random.randn(3, N)\n",
    "points3d[3, :] = 1"
   ]
  },
  {
   "cell_type": "code",
   "execution_count": 71,
   "metadata": {},
   "outputs": [],
   "source": [
    "points1 = P1 @ points3d\n",
    "points1 = points1[:2, :] / points1[2, :]\n",
    "points1[:2, :] += np.random.randn(2, N) * 1e-2\n",
    "\n",
    "points2 = P2 @ points3d\n",
    "points2 = points2[:2, :] / points2[2, :]\n",
    "points2[:2, :] += np.random.randn(2, N) * 1e-2"
   ]
  },
  {
   "cell_type": "code",
   "execution_count": 72,
   "metadata": {},
   "outputs": [],
   "source": [
    "points3d_reconstr = cv2.triangulatePoints(P1, P2, points1, points2)\n",
    "points3d_reconstr /= points3d_reconstr[3, :]"
   ]
  },
  {
   "cell_type": "code",
   "execution_count": 73,
   "metadata": {},
   "outputs": [
    {
     "name": "stdout",
     "output_type": "stream",
     "text": [
      "Original points\n",
      "[[ 0.48245686 -2.05779004  1.3458606 ]\n",
      " [-0.18333936 -1.00662899 -0.46047512]\n",
      " [-0.51193094 -0.54561883  0.20674749]\n",
      " [ 1.05258393 -1.55241323  0.60368073]\n",
      " [ 1.80103588 -0.83367926 -0.59293056]]\n",
      "Reconstructed points\n",
      "[[ 0.47777811 -2.05873108  1.3407315 ]\n",
      " [-0.17389734 -0.99433696 -0.45361272]\n",
      " [-0.51100874 -0.54552656  0.20692034]\n",
      " [ 1.05780101 -1.54776227  0.60341281]\n",
      " [ 1.81407869 -0.83914387 -0.59897166]]\n"
     ]
    }
   ],
   "source": [
    "print('Original points')\n",
    "print(points3d[:3].T)\n",
    "print('Reconstructed points')\n",
    "print(points3d_reconstr[:3].T)"
   ]
  },
  {
   "cell_type": "code",
   "execution_count": null,
   "metadata": {},
   "outputs": [],
   "source": []
  },
  {
   "cell_type": "code",
   "execution_count": null,
   "metadata": {},
   "outputs": [],
   "source": []
  }
 ],
 "metadata": {
  "kernelspec": {
   "display_name": "Python 3",
   "language": "python",
   "name": "python3"
  },
  "language_info": {
   "codemirror_mode": {
    "name": "ipython",
    "version": 3
   },
   "file_extension": ".py",
   "mimetype": "text/x-python",
   "name": "python",
   "nbconvert_exporter": "python",
   "pygments_lexer": "ipython3",
   "version": "3.6.4"
  }
 },
 "nbformat": 4,
 "nbformat_minor": 2
}
