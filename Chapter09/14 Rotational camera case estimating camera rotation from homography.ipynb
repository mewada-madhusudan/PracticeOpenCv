{
 "cells": [
  {
   "cell_type": "code",
   "execution_count": 1,
   "metadata": {},
   "outputs": [],
   "source": [
    "import cv2\n",
    "import numpy as np"
   ]
  },
  {
   "cell_type": "code",
   "execution_count": 49,
   "metadata": {},
   "outputs": [
    {
     "name": "stdout",
     "output_type": "stream",
     "text": [
      "[[ 0.93575478 -0.28316498  0.21019171]\n",
      " [ 0.30293274  0.9505806  -0.06803132]\n",
      " [-0.18054008  0.12733458  0.9752903 ]]\n"
     ]
    }
   ],
   "source": [
    "K = np.array([[560,0,320],[0,560,240],[0,0,1]],dtype=np.float32)\n",
    "rvec = np.array([0.1, 0.2, 0.3], np.float32)\n",
    "R, _ = cv2.Rodrigues(rvec)\n",
    "print(R)"
   ]
  },
  {
   "cell_type": "code",
   "execution_count": 50,
   "metadata": {},
   "outputs": [],
   "source": [
    "H = K @ R @ np.linalg.inv(K)"
   ]
  },
  {
   "cell_type": "code",
   "execution_count": 51,
   "metadata": {},
   "outputs": [],
   "source": [
    "H /= H[2, 2]"
   ]
  },
  {
   "cell_type": "code",
   "execution_count": 52,
   "metadata": {},
   "outputs": [
    {
     "name": "stdout",
     "output_type": "stream",
     "text": [
      "[[  8.13167334e-01  -2.05494329e-01   2.08879410e+02]\n",
      " [  2.20296830e-01   9.81705487e-01  -1.14703590e+02]\n",
      " [ -3.14872566e-04   2.22079034e-04   1.00000000e+00]]\n"
     ]
    }
   ],
   "source": [
    "print(H)"
   ]
  },
  {
   "cell_type": "code",
   "execution_count": 53,
   "metadata": {},
   "outputs": [],
   "source": [
    "H += np.random.randn(3,3)*0.0001"
   ]
  },
  {
   "cell_type": "code",
   "execution_count": 69,
   "metadata": {},
   "outputs": [],
   "source": [
    "np.save('rotational_homography.npy', {'H': H, 'K': K})"
   ]
  },
  {
   "cell_type": "code",
   "execution_count": 70,
   "metadata": {},
   "outputs": [],
   "source": [
    "data = np.load('../data/rotational_homography.npy').item()\n",
    "H, K = data['H'], data['K']"
   ]
  },
  {
   "cell_type": "code",
   "execution_count": 71,
   "metadata": {},
   "outputs": [
    {
     "data": {
      "text/plain": [
       "array([[  8.13177705e-01,  -2.05605209e-01,   2.08879395e+02],\n",
       "       [  2.20315456e-01,   9.81728315e-01,  -1.14703568e+02],\n",
       "       [ -4.05734871e-04,   3.25349916e-04,   9.99951601e-01]], dtype=float32)"
      ]
     },
     "execution_count": 71,
     "metadata": {},
     "output_type": "execute_result"
    }
   ],
   "source": [
    "H"
   ]
  },
  {
   "cell_type": "code",
   "execution_count": 72,
   "metadata": {},
   "outputs": [],
   "source": [
    "H_ = np.linalg.inv(K) @ H @ K"
   ]
  },
  {
   "cell_type": "code",
   "execution_count": 75,
   "metadata": {},
   "outputs": [],
   "source": [
    "w, u, vt = cv2.SVDecomp(H_)\n",
    "R = u @ vt\n",
    "if cv2.determinant(R) < 0:\n",
    "    R *= 1"
   ]
  },
  {
   "cell_type": "code",
   "execution_count": 76,
   "metadata": {},
   "outputs": [],
   "source": [
    "rvec = cv2.Rodrigues(R)[0]"
   ]
  },
  {
   "cell_type": "code",
   "execution_count": 77,
   "metadata": {
    "scrolled": true
   },
   "outputs": [
    {
     "name": "stdout",
     "output_type": "stream",
     "text": [
      "Rotation vector:\n",
      "[[ 0.12439561]\n",
      " [ 0.22688715]\n",
      " [ 0.32641321]]\n"
     ]
    }
   ],
   "source": [
    "print('Rotation vector:')\n",
    "print(rvec)"
   ]
  },
  {
   "cell_type": "code",
   "execution_count": null,
   "metadata": {},
   "outputs": [],
   "source": []
  }
 ],
 "metadata": {
  "kernelspec": {
   "display_name": "Python 3",
   "language": "python",
   "name": "python3"
  },
  "language_info": {
   "codemirror_mode": {
    "name": "ipython",
    "version": 3
   },
   "file_extension": ".py",
   "mimetype": "text/x-python",
   "name": "python",
   "nbconvert_exporter": "python",
   "pygments_lexer": "ipython3",
   "version": "3.6.4"
  }
 },
 "nbformat": 4,
 "nbformat_minor": 2
}
