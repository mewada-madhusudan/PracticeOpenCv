{
 "cells": [
  {
   "cell_type": "code",
   "execution_count": 1,
   "metadata": {},
   "outputs": [],
   "source": [
    "import cv2\n",
    "import numpy as np"
   ]
  },
  {
   "cell_type": "code",
   "execution_count": 10,
   "metadata": {},
   "outputs": [],
   "source": [
    "cap = cv2.VideoCapture(0)\n",
    "\n",
    "pattern_size = (10, 7)\n",
    "\n",
    "samples = []\n",
    "\n",
    "while True:\n",
    "    ret, frame = cap.read()\n",
    "    if not ret:\n",
    "        break\n",
    "    \n",
    "    res, corners = cv2.findChessboardCorners(frame, pattern_size)\n",
    "    \n",
    "    img_show = np.copy(frame)\n",
    "    cv2.drawChessboardCorners(img_show, pattern_size, corners, res)\n",
    "    cv2.putText(img_show, 'Samples captured: %d' % len(samples), (0, 40), \n",
    "                cv2.FONT_HERSHEY_SIMPLEX, 1.0, (0, 255, 0), 2)\n",
    "    cv2.imshow('chessboard', img_show)\n",
    "    \n",
    "    wait_time = 0 if res else 30\n",
    "    k = cv2.waitKey(wait_time)\n",
    "    \n",
    "    if k == ord('s') and res:\n",
    "        samples.append((cv2.cvtColor(frame, cv2.COLOR_BGR2GRAY), corners))\n",
    "    elif k == 27:\n",
    "        break\n",
    "\n",
    "cap.release()\n",
    "cv2.destroyAllWindows()"
   ]
  },
  {
   "cell_type": "code",
   "execution_count": 4,
   "metadata": {},
   "outputs": [],
   "source": [
    "criteria = (cv2.TERM_CRITERIA_EPS + cv2.TERM_CRITERIA_MAX_ITER, 30, 1e-3)\n",
    "\n",
    "for i in range(len(samples)):\n",
    "    img, corners = samples[i]\n",
    "    corners = cv2.cornerSubPix(img, corners, (10, 10), (-1,-1), criteria)"
   ]
  },
  {
   "cell_type": "code",
   "execution_count": 5,
   "metadata": {
    "scrolled": true
   },
   "outputs": [
    {
     "name": "stdout",
     "output_type": "stream",
     "text": [
      "28 (1, 70, 3) float32\n",
      "28 (70, 1, 2) float32\n",
      "[[ 203.71832716    0.          239.5       ]\n",
      " [   0.          203.71832716  319.5       ]\n",
      " [   0.            0.            1.        ]]\n",
      "[[ 0.]\n",
      " [ 0.]\n",
      " [ 0.]\n",
      " [ 0.]]\n"
     ]
    }
   ],
   "source": [
    "pattern_points = np.zeros((1, np.prod(pattern_size), 3), np.float32)\n",
    "pattern_points[0, :, :2] = np.indices(pattern_size).T.reshape(-1, 2)\n",
    "\n",
    "images, corners = zip(*samples)\n",
    "\n",
    "pattern_points = [pattern_points]*len(corners)\n",
    "\n",
    "print(len(pattern_points), pattern_points[0].shape, pattern_points[0].dtype)\n",
    "print(len(corners), corners[0].shape, corners[0].dtype)\n",
    "\n",
    "rms, camera_matrix, dis t_coefs, rvecs, tvecs = \\\n",
    "    cv2.fisheye.calibrate(pattern_points, corners, images[0].shape, None, None)\n",
    "\n",
    "np.save('camera_mat.npy', camera_matrix)\n",
    "np.save('dist_coefs.npy', dist_coefs)"
   ]
  },
  {
   "cell_type": "code",
   "execution_count": null,
   "metadata": {},
   "outputs": [],
   "source": []
  }
 ],
 "metadata": {
  "kernelspec": {
   "display_name": "Python 3",
   "language": "python",
   "name": "python3"
  },
  "language_info": {
   "codemirror_mode": {
    "name": "ipython",
    "version": 3
   },
   "file_extension": ".py",
   "mimetype": "text/x-python",
   "name": "python",
   "nbconvert_exporter": "python",
   "pygments_lexer": "ipython3",
   "version": "3.5.2"
  }
 },
 "nbformat": 4,
 "nbformat_minor": 2
}
