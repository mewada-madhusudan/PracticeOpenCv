{
 "cells": [
  {
   "cell_type": "code",
   "execution_count": 17,
   "metadata": {},
   "outputs": [
    {
     "name": "stdout",
     "output_type": "stream",
     "text": [
      "Using matplotlib backend: TkAgg\n"
     ]
    }
   ],
   "source": [
    "import cv2\n",
    "import matplotlib.pyplot as plt\n",
    "%matplotlib auto\n",
    "import matplotlib\n",
    "matplotlib.rcParams.update({'font.size': 20})"
   ]
  },
  {
   "cell_type": "code",
   "execution_count": 18,
   "metadata": {},
   "outputs": [],
   "source": [
    "left_img = cv2.imread('../data/stereo/left.png')\n",
    "right_img = cv2.imread('../data/stereo/right.png')"
   ]
  },
  {
   "cell_type": "code",
   "execution_count": 43,
   "metadata": {},
   "outputs": [],
   "source": [
    "stereo_bm = cv2.StereoBM_create(32)\n",
    "dispmap_bm = stereo_bm.compute(cv2.cvtColor(left_img, cv2.COLOR_BGR2GRAY), \n",
    "                               cv2.cvtColor(right_img, cv2.COLOR_BGR2GRAY))\n",
    "\n",
    "stereo_sgbm = cv2.StereoSGBM_create(0, 32)\n",
    "dispmap_sgbm = stereo_sgbm.compute(left_img, right_img)"
   ]
  },
  {
   "cell_type": "code",
   "execution_count": 46,
   "metadata": {},
   "outputs": [],
   "source": [
    "plt.figure(figsize=(12,10))\n",
    "plt.subplot(221)\n",
    "plt.title('left')\n",
    "plt.imshow(left_img[:,:,[2,1,0]])\n",
    "plt.subplot(222)\n",
    "plt.title('right')\n",
    "plt.imshow(right_img[:,:,[2,1,0]])\n",
    "plt.subplot(223)\n",
    "plt.title('BM')\n",
    "plt.imshow(dispmap_bm, cmap='gray')\n",
    "plt.subplot(224)\n",
    "plt.title('SGBM')\n",
    "plt.imshow(dispmap_sgbm, cmap='gray')\n",
    "plt.show()"
   ]
  },
  {
   "cell_type": "code",
   "execution_count": null,
   "metadata": {},
   "outputs": [],
   "source": []
  }
 ],
 "metadata": {
  "kernelspec": {
   "display_name": "Python 3",
   "language": "python",
   "name": "python3"
  },
  "language_info": {
   "codemirror_mode": {
    "name": "ipython",
    "version": 3
   },
   "file_extension": ".py",
   "mimetype": "text/x-python",
   "name": "python",
   "nbconvert_exporter": "python",
   "pygments_lexer": "ipython3",
   "version": "3.6.4"
  }
 },
 "nbformat": 4,
 "nbformat_minor": 2
}
