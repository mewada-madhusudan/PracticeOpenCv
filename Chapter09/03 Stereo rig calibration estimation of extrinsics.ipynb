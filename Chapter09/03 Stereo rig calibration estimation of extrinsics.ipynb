{
 "cells": [
  {
   "cell_type": "code",
   "execution_count": 126,
   "metadata": {},
   "outputs": [],
   "source": [
    "import cv2\n",
    "import glob\n",
    "import numpy as np"
   ]
  },
  {
   "cell_type": "code",
   "execution_count": 111,
   "metadata": {},
   "outputs": [],
   "source": [
    "PATTERN_SIZE = (9, 6)\n",
    "left_imgs = list(sorted(glob.glob('../data/stereo/case1/left*.png')))\n",
    "right_imgs = list(sorted(glob.glob('../data/stereo/case1/right*.png')))\n",
    "assert len(left_imgs) == len(right_imgs)"
   ]
  },
  {
   "cell_type": "code",
   "execution_count": 151,
   "metadata": {},
   "outputs": [],
   "source": [
    "criteria = (cv2.TERM_CRITERIA_EPS + cv2.TERM_CRITERIA_MAX_ITER, 30, 1e-3)\n",
    "left_pts, right_pts = [], []\n",
    "img_size = None\n",
    "\n",
    "for left_img_path, right_img_path in zip(left_imgs, right_imgs):\n",
    "    left_img = cv2.imread(left_img_path, cv2.IMREAD_GRAYSCALE)\n",
    "    right_img = cv2.imread(right_img_path, cv2.IMREAD_GRAYSCALE)\n",
    "    if img_size is None:\n",
    "        img_size = (left_img.shape[1], left_img.shape[0])\n",
    "    \n",
    "    res_left, corners_left = cv2.findChessboardCorners(left_img, PATTERN_SIZE)\n",
    "    res_right, corners_right = cv2.findChessboardCorners(right_img, PATTERN_SIZE)\n",
    "    \n",
    "    corners_left = cv2.cornerSubPix(left_img, corners_left, (10, 10), (-1,-1),\n",
    "                                    criteria)\n",
    "    corners_right = cv2.cornerSubPix(right_img, corners_right, (10, 10), (-1,-1), \n",
    "                                     criteria)\n",
    "    \n",
    "    left_pts.append(corners_left)\n",
    "    right_pts.append(corners_right)"
   ]
  },
  {
   "cell_type": "code",
   "execution_count": 152,
   "metadata": {},
   "outputs": [],
   "source": [
    "pattern_points = np.zeros((np.prod(PATTERN_SIZE), 3), np.float32)\n",
    "pattern_points[:, :2] = np.indices(PATTERN_SIZE).T.reshape(-1, 2)\n",
    "pattern_points = [pattern_points] * len(left_imgs)"
   ]
  },
  {
   "cell_type": "code",
   "execution_count": 157,
   "metadata": {},
   "outputs": [],
   "source": [
    "err, Kl, Dl, Kr, Dr, R, T, E, F = cv2.stereoCalibrate(\n",
    "    pattern_points, left_pts, right_pts, None, None, None, None, img_size, flags=0)"
   ]
  },
  {
   "cell_type": "code",
   "execution_count": 162,
   "metadata": {},
   "outputs": [
    {
     "name": "stdout",
     "output_type": "stream",
     "text": [
      "Left camera:\n",
      "[[ 534.36681752    0.          341.45684657]\n",
      " [   0.          534.29616718  235.72519106]\n",
      " [   0.            0.            1.        ]]\n",
      "Left camera distortion:\n",
      "[[ -2.79470900e-01   4.71876981e-02   1.39511507e-03  -1.64158448e-04\n",
      "    7.01729203e-02]]\n",
      "Right camera:\n",
      "[[ 537.88729748    0.          327.29925115]\n",
      " [   0.          537.43063947  250.10021993]\n",
      " [   0.            0.            1.        ]]\n",
      "Right camera distortion:\n",
      "[[-0.28990693  0.12537789 -0.00040656  0.00053461 -0.03844589]]\n",
      "Rotation matrix:\n",
      "[[ 0.99998995  0.00355598  0.00273003]\n",
      " [-0.00354058  0.99997791 -0.00562461]\n",
      " [-0.00274997  0.00561489  0.99998046]]\n",
      "Translation:\n",
      "[[-3.33161159]\n",
      " [ 0.03706722]\n",
      " [-0.00420814]]\n"
     ]
    }
   ],
   "source": [
    "print('Left camera:')\n",
    "print(Kl)\n",
    "print('Left camera distortion:')\n",
    "print(Dl)\n",
    "print('Right camera:')\n",
    "print(Kr)\n",
    "print('Right camera distortion:')\n",
    "print(Dr)\n",
    "print('Rotation matrix:')\n",
    "print(R)\n",
    "print('Translation:')\n",
    "print(T)"
   ]
  },
  {
   "cell_type": "code",
   "execution_count": 154,
   "metadata": {},
   "outputs": [],
   "source": [
    "np.save('stereo.npy', {'Kl': Kl, 'Dl': Dl, 'Kr': Kr, 'Dr': Dr, 'R': R, 'T': T, 'E': E, 'F': F, \n",
    "                       'img_size': img_size, 'left_pts': left_pts, 'right_pts': right_pts})"
   ]
  }
 ],
 "metadata": {
  "kernelspec": {
   "display_name": "Python 3",
   "language": "python",
   "name": "python3"
  },
  "language_info": {
   "codemirror_mode": {
    "name": "ipython",
    "version": 3
   },
   "file_extension": ".py",
   "mimetype": "text/x-python",
   "name": "python",
   "nbconvert_exporter": "python",
   "pygments_lexer": "ipython3",
   "version": "3.6.4"
  }
 },
 "nbformat": 4,
 "nbformat_minor": 2
}
