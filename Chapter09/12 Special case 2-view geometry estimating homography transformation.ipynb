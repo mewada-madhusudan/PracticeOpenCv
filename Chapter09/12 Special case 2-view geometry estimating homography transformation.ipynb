{
 "cells": [
  {
   "cell_type": "code",
   "execution_count": 1,
   "metadata": {},
   "outputs": [],
   "source": [
    "import cv2\n",
    "import numpy as np"
   ]
  },
  {
   "cell_type": "code",
   "execution_count": 2,
   "metadata": {},
   "outputs": [],
   "source": [
    "camera_matrix = np.load('../data/pinhole_calib/camera_mat.npy')\n",
    "dist_coefs = np.load('../data/pinhole_calib/dist_coefs.npy')\n",
    "img_0 = cv2.imread('../data/pinhole_calib/img_00.png')\n",
    "img_1 = cv2.imread('../data/pinhole_calib/img_10.png')"
   ]
  },
  {
   "cell_type": "code",
   "execution_count": 3,
   "metadata": {},
   "outputs": [],
   "source": [
    "img_0 = cv2.undistort(img_0, camera_matrix, dist_coefs)\n",
    "img_1 = cv2.undistort(img_1, camera_matrix, dist_coefs)"
   ]
  },
  {
   "cell_type": "code",
   "execution_count": 4,
   "metadata": {},
   "outputs": [],
   "source": [
    "pattern_size = (10, 7)\n",
    "res_0, corners_0 = cv2.findChessboardCorners(img_0, pattern_size)\n",
    "res_1, corners_1 = cv2.findChessboardCorners(img_1, pattern_size)\n",
    "\n",
    "criteria = (cv2.TERM_CRITERIA_EPS + cv2.TERM_CRITERIA_MAX_ITER, 30, 1e-3)\n",
    "corners_0 = cv2.cornerSubPix(cv2.cvtColor(img_0, cv2.COLOR_BGR2GRAY), \n",
    "                           corners_0, (10, 10), (-1,-1), criteria)\n",
    "corners_1 = cv2.cornerSubPix(cv2.cvtColor(img_1, cv2.COLOR_BGR2GRAY), \n",
    "                           corners_1, (10, 10), (-1,-1), criteria)"
   ]
  },
  {
   "cell_type": "code",
   "execution_count": 5,
   "metadata": {},
   "outputs": [],
   "source": [
    "H, mask = cv2.findHomography(corners_0, corners_1)"
   ]
  },
  {
   "cell_type": "code",
   "execution_count": 6,
   "metadata": {},
   "outputs": [],
   "source": [
    "center_0 = np.mean(corners_0.squeeze(), 0)\n",
    "center_0 = np.r_[center_0, 1]\n",
    "center_1 = H @ center_0\n",
    "center_1 = (center_1 / center_1[2]).astype(np.float32)\n",
    "\n",
    "img_0 = cv2.circle(img_0, tuple(center_0[:2]), 10, (0, 255, 0), 3)\n",
    "img_1 = cv2.circle(img_1, tuple(center_1[:2]), 10, (0, 0, 255), 3)"
   ]
  },
  {
   "cell_type": "code",
   "execution_count": 8,
   "metadata": {},
   "outputs": [
    {
     "data": {
      "text/plain": [
       "True"
      ]
     },
     "execution_count": 8,
     "metadata": {},
     "output_type": "execute_result"
    }
   ],
   "source": [
    "img_0_warped = cv2.warpPerspective(img_0, H, img_0.shape[:2][::-1])\n",
    "\n",
    "cv2.imshow('homography', np.hstack((img_0, img_1, img_0_warped)))\n",
    "cv2.waitKey()\n",
    "cv2.destroyAllWindows()"
   ]
  },
  {
   "cell_type": "code",
   "execution_count": null,
   "metadata": {},
   "outputs": [],
   "source": []
  }
 ],
 "metadata": {
  "kernelspec": {
   "display_name": "Python 3",
   "language": "python",
   "name": "python3"
  },
  "language_info": {
   "codemirror_mode": {
    "name": "ipython",
    "version": 3
   },
   "file_extension": ".py",
   "mimetype": "text/x-python",
   "name": "python",
   "nbconvert_exporter": "python",
   "pygments_lexer": "ipython3",
   "version": "3.5.2"
  }
 },
 "nbformat": 4,
 "nbformat_minor": 2
}
