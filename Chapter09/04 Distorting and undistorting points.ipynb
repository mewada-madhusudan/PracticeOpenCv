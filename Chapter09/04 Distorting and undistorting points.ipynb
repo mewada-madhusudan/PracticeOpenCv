{
 "cells": [
  {
   "cell_type": "code",
   "execution_count": 1,
   "metadata": {},
   "outputs": [],
   "source": [
    "import cv2\n",
    "import numpy as np"
   ]
  },
  {
   "cell_type": "code",
   "execution_count": 2,
   "metadata": {},
   "outputs": [],
   "source": [
    "camera_matrix = np.load('../data/pinhole_calib/camera_mat.npy')\n",
    "dist_coefs = np.load('../data/pinhole_calib/dist_coefs.npy')"
   ]
  },
  {
   "cell_type": "code",
   "execution_count": 13,
   "metadata": {},
   "outputs": [],
   "source": [
    "img = cv2.imread('../data/pinhole_calib/img_00.png')\n",
    "pattern_size = (10, 7)\n",
    "res, corners = cv2.findChessboardCorners(img, pattern_size)\n",
    "criteria = (cv2.TERM_CRITERIA_EPS + cv2.TERM_CRITERIA_MAX_ITER, 30, 1e-3)\n",
    "corners = cv2.cornerSubPix(cv2.cvtColor(img, cv2.COLOR_BGR2GRAY), \n",
    "                           corners, (10, 10), (-1,-1), criteria)"
   ]
  },
  {
   "cell_type": "code",
   "execution_count": 14,
   "metadata": {},
   "outputs": [],
   "source": [
    "h_corners = cv2.undistortPoints(corners, camera_matrix, dist_coefs)\n",
    "h_corners = np.c_[h_corners.squeeze(), np.ones(len(h_corners))]"
   ]
  },
  {
   "cell_type": "code",
   "execution_count": 15,
   "metadata": {},
   "outputs": [],
   "source": [
    "img_pts, _ = cv2.projectPoints(h_corners, (0, 0, 0), (0, 0, 0), camera_matrix, None)\n",
    "\n",
    "for c in corners:\n",
    "    cv2.circle(img, tuple(c[0]), 10, (0, 255, 0), 2)\n",
    "\n",
    "for c in img_pts.squeeze().astype(np.float32):\n",
    "    cv2.circle(img, tuple(c), 5, (0, 0, 255), 2)\n",
    "\n",
    "cv2.imshow('undistorted corners', img)\n",
    "cv2.waitKey()\n",
    "cv2.destroyAllWindows()"
   ]
  },
  {
   "cell_type": "code",
   "execution_count": 16,
   "metadata": {},
   "outputs": [],
   "source": [
    "img_pts, _ = cv2.projectPoints(h_corners, (0, 0, 0), (0, 0, 0), camera_matrix, dist_coefs)\n",
    "\n",
    "for c in img_pts.squeeze().astype(np.float32):\n",
    "    cv2.circle(img, tuple(c), 2, (255, 255, 0), 2)\n",
    "\n",
    "cv2.imshow('reprojected corners', img)\n",
    "cv2.waitKey()\n",
    "cv2.destroyAllWindows()"
   ]
  },
  {
   "cell_type": "code",
   "execution_count": null,
   "metadata": {},
   "outputs": [],
   "source": []
  }
 ],
 "metadata": {
  "kernelspec": {
   "display_name": "Python 3",
   "language": "python",
   "name": "python3"
  },
  "language_info": {
   "codemirror_mode": {
    "name": "ipython",
    "version": 3
   },
   "file_extension": ".py",
   "mimetype": "text/x-python",
   "name": "python",
   "nbconvert_exporter": "python",
   "pygments_lexer": "ipython3",
   "version": "3.5.2"
  }
 },
 "nbformat": 4,
 "nbformat_minor": 2
}
