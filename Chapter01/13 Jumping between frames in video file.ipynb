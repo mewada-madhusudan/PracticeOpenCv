{
 "cells": [
  {
   "cell_type": "code",
   "execution_count": 12,
   "metadata": {},
   "outputs": [
    {
     "name": "stdout",
     "output_type": "stream",
     "text": [
      "Frame count: 182\n",
      "Position: 0\n",
      "Position: 1\n",
      "Position: 100\n"
     ]
    }
   ],
   "source": [
    "import cv2\n",
    "\n",
    "capture = cv2.VideoCapture('../data/drop.avi')\n",
    "frame_count = int(capture.get(cv2.CAP_PROP_FRAME_COUNT))\n",
    "print('Frame count:', frame_count)\n",
    "\n",
    "print('Position:', int(capture.get(cv2.CAP_PROP_POS_FRAMES)))\n",
    "_, frame = capture.read()\n",
    "cv2.imshow('frame0', frame)\n",
    "\n",
    "print('Position:', int(capture.get(cv2.CAP_PROP_POS_FRAMES)))\n",
    "_, frame = capture.read()\n",
    "cv2.imshow('frame1', frame)\n",
    "\n",
    "capture.set(cv2.CAP_PROP_POS_FRAMES, 100)\n",
    "print('Position:', int(capture.get(cv2.CAP_PROP_POS_FRAMES)))\n",
    "_, frame = capture.read()\n",
    "cv2.imshow('frame100', frame)\n",
    "    \n",
    "cv2.waitKey()\n",
    "cv2.destroyAllWindows()"
   ]
  },
  {
   "cell_type": "code",
   "execution_count": null,
   "metadata": {
    "collapsed": true
   },
   "outputs": [],
   "source": []
  },
  {
   "cell_type": "code",
   "execution_count": null,
   "metadata": {
    "collapsed": true
   },
   "outputs": [],
   "source": []
  }
 ],
 "metadata": {
  "kernelspec": {
   "display_name": "Python 3",
   "language": "python",
   "name": "python3"
  },
  "language_info": {
   "codemirror_mode": {
    "name": "ipython",
    "version": 3
   },
   "file_extension": ".py",
   "mimetype": "text/x-python",
   "name": "python",
   "nbconvert_exporter": "python",
   "pygments_lexer": "ipython3",
   "version": "3.5.2"
  }
 },
 "nbformat": 4,
 "nbformat_minor": 2
}
