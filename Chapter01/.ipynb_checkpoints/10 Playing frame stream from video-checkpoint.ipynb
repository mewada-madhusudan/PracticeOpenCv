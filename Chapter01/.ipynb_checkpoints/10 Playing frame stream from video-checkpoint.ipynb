{
 "cells": [
  {
   "cell_type": "code",
   "execution_count": 18,
   "metadata": {},
   "outputs": [
    {
     "name": "stdout",
     "output_type": "stream",
     "text": [
      "255 0\n",
      "255 0\n",
      "255 0\n",
      "255 0\n",
      "255 0\n",
      "255 0\n",
      "255 0\n",
      "255 0\n",
      "255 0\n",
      "255 0\n",
      "255 0\n",
      "255 0\n",
      "255 0\n",
      "255 0\n",
      "255 0\n",
      "255 0\n",
      "255 0\n",
      "255 0\n",
      "255 0\n",
      "255 0\n",
      "255 0\n",
      "255 0\n",
      "255 0\n",
      "255 0\n",
      "255 0\n",
      "255 0\n",
      "255 0\n",
      "255 0\n",
      "255 0\n",
      "255 0\n",
      "255 0\n",
      "255 0\n",
      "255 0\n",
      "255 0\n",
      "255 0\n",
      "255 0\n",
      "255 0\n",
      "255 0\n",
      "255 0\n",
      "255 0\n",
      "255 0\n",
      "255 0\n",
      "255 0\n",
      "225 225\n",
      "255 0\n",
      "27 27\n",
      "Pressed Esc\n"
     ]
    }
   ],
   "source": [
    "import cv2\n",
    "\n",
    "capture = cv2.VideoCapture('../data/drop.avi')\n",
    "\n",
    "while True:\n",
    "    has_frame, frame = capture.read()\n",
    "    if not has_frame:\n",
    "        print('Reached end of video')\n",
    "        break\n",
    "\n",
    "    cv2.imshow('frame', frame)\n",
    "    key = cv2.waitKey(50)\n",
    "    if key == 27:\n",
    "        print('Pressed Esc')\n",
    "        break\n",
    "    \n",
    "cv2.destroyAllWindows()"
   ]
  },
  {
   "cell_type": "code",
   "execution_count": null,
   "metadata": {
    "collapsed": true
   },
   "outputs": [],
   "source": []
  }
 ],
 "metadata": {
  "kernelspec": {
   "display_name": "Python 3",
   "language": "python",
   "name": "python3"
  },
  "language_info": {
   "codemirror_mode": {
    "name": "ipython",
    "version": 3
   },
   "file_extension": ".py",
   "mimetype": "text/x-python",
   "name": "python",
   "nbconvert_exporter": "python",
   "pygments_lexer": "ipython3",
   "version": "3.5.2"
  }
 },
 "nbformat": 4,
 "nbformat_minor": 2
}
