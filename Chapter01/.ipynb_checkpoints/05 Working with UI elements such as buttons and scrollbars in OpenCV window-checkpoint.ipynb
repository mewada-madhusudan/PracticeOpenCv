{
 "cells": [
  {
   "cell_type": "code",
   "execution_count": 3,
   "metadata": {},
   "outputs": [],
   "source": [
    "import cv2, numpy as np\n",
    "\n",
    "cv2.namedWindow('window')\n",
    "\n",
    "image = np.full((500, 500, 3), 255, np.uint8)\n",
    "\n",
    "def tb1_callback(value):\n",
    "    image.fill(value)\n",
    "    \n",
    "cv2.createTrackbar('trackbar1', 'window', 255, 255, tb1_callback)\n",
    "\n",
    "while True:\n",
    "    cv2.imshow('window', image)\n",
    "    key = cv2.waitKey(3)\n",
    "    if key == 27: \n",
    "        break\n",
    "\n",
    "cv2.destroyAllWindows()"
   ]
  },
  {
   "cell_type": "code",
   "execution_count": null,
   "metadata": {
    "collapsed": true
   },
   "outputs": [],
   "source": []
  }
 ],
 "metadata": {
  "kernelspec": {
   "display_name": "Python 3",
   "language": "python",
   "name": "python3"
  },
  "language_info": {
   "codemirror_mode": {
    "name": "ipython",
    "version": 3
   },
   "file_extension": ".py",
   "mimetype": "text/x-python",
   "name": "python",
   "nbconvert_exporter": "python",
   "pygments_lexer": "ipython3",
   "version": "3.5.2"
  }
 },
 "nbformat": 4,
 "nbformat_minor": 2
}
