{
 "cells": [
  {
   "cell_type": "code",
   "execution_count": 57,
   "metadata": {
    "collapsed": true
   },
   "outputs": [],
   "source": [
    "import cv2, numpy as np\n",
    "\n",
    "image = np.full((500, 500, 3), 255, np.uint8)\n",
    "\n",
    "cv2.line(image, (100, 100), (400, 100), (255, 0, 0), 1)\n",
    "cv2.ellipse(image, (250, 250), (200, 100), 0, 0, 360, (0, 255, 0), -1)\n",
    "cv2.rectangle(image, (200, 200), (400, 400), (0, 0, 255), 3)\n",
    "cv2.putText(image, 'Hello, OpenCV!', (250, 250), cv2.FONT_HERSHEY_SIMPLEX, 1, \n",
    "            (0, 0, 0), 2, lineType=cv2.LINE_AA)\n",
    "\n",
    "cv2.imshow('image', image)\n",
    "cv2.waitKey()\n",
    "cv2.destroyAllWindows()"
   ]
  },
  {
   "cell_type": "code",
   "execution_count": null,
   "metadata": {
    "collapsed": true
   },
   "outputs": [],
   "source": []
  }
 ],
 "metadata": {
  "kernelspec": {
   "display_name": "Python 3",
   "language": "python",
   "name": "python3"
  },
  "language_info": {
   "codemirror_mode": {
    "name": "ipython",
    "version": 3
   },
   "file_extension": ".py",
   "mimetype": "text/x-python",
   "name": "python",
   "nbconvert_exporter": "python",
   "pygments_lexer": "ipython3",
   "version": "3.5.2"
  }
 },
 "nbformat": 4,
 "nbformat_minor": 2
}
