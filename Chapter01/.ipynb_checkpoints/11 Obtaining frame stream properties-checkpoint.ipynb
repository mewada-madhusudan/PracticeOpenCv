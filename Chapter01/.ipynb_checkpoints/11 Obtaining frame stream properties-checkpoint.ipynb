{
 "cells": [
  {
   "cell_type": "code",
   "execution_count": 5,
   "metadata": {},
   "outputs": [
    {
     "name": "stdout",
     "output_type": "stream",
     "text": [
      "Created capture: ../data/drop.avi\n",
      "Frame count: 0.0\n",
      "Frame width: 0.0\n",
      "Frame height: 0.0\n",
      "Frame rate: 0.0\n",
      "Created capture: 0\n",
      "Frame count: 0.0\n",
      "Frame width: 0.0\n",
      "Frame height: 0.0\n",
      "Frame rate: 0.0\n"
     ]
    }
   ],
   "source": [
    "import cv2\n",
    "\n",
    "def print_capture_properties(*args):\n",
    "    capture = cv2.VideoCapture(*args)\n",
    "    print('Created capture:', ' '.join(map(str, args)))\n",
    "    print('Frame count:', capture.get(cv2.CAP_PROP_FRAME_COUNT))\n",
    "    print('Frame width:', capture.get(cv2.CAP_PROP_FRAME_WIDTH))\n",
    "    print('Frame height:', capture.get(cv2.CAP_PROP_FRAME_HEIGHT))\n",
    "    print('Frame rate:', capture.get(cv2.CAP_PROP_FPS))\n",
    "    \n",
    "print_capture_properties('../data/drop.avi')\n",
    "print_capture_properties(0)"
   ]
  },
  {
   "cell_type": "code",
   "execution_count": null,
   "metadata": {
    "collapsed": true
   },
   "outputs": [],
   "source": []
  }
 ],
 "metadata": {
  "kernelspec": {
   "display_name": "Python 3",
   "language": "python",
   "name": "python3"
  },
  "language_info": {
   "codemirror_mode": {
    "name": "ipython",
    "version": 3
   },
   "file_extension": ".py",
   "mimetype": "text/x-python",
   "name": "python",
   "nbconvert_exporter": "python",
   "pygments_lexer": "ipython3",
   "version": "3.5.2"
  }
 },
 "nbformat": 4,
 "nbformat_minor": 2
}
