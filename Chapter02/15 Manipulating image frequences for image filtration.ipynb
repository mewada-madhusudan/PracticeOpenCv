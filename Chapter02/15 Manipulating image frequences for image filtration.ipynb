{
 "cells": [
  {
   "cell_type": "code",
   "execution_count": 14,
   "metadata": {},
   "outputs": [
    {
     "name": "stdout",
     "output_type": "stream",
     "text": [
      "Using matplotlib backend: TkAgg\n"
     ]
    }
   ],
   "source": [
    "import cv2\n",
    "import numpy as np\n",
    "import matplotlib.pyplot as plt\n",
    "%matplotlib auto"
   ]
  },
  {
   "cell_type": "code",
   "execution_count": 8,
   "metadata": {
    "collapsed": true
   },
   "outputs": [],
   "source": [
    "image = cv2.imread('../data/Lena.png', 0).astype(np.float32) / 255"
   ]
  },
  {
   "cell_type": "code",
   "execution_count": 30,
   "metadata": {},
   "outputs": [
    {
     "name": "stdout",
     "output_type": "stream",
     "text": [
      "(512, 512, 2)\n",
      "float32\n"
     ]
    }
   ],
   "source": [
    "fft = cv2.dft(image, flags=cv2.DFT_COMPLEX_OUTPUT)\n",
    "print(fft.shape)\n",
    "print(fft.dtype)"
   ]
  },
  {
   "cell_type": "code",
   "execution_count": 31,
   "metadata": {
    "collapsed": true
   },
   "outputs": [],
   "source": [
    "fft_shift = np.fft.fftshift(fft, axes=[0, 1])\n",
    "sz = 25\n",
    "mask = np.zeros(fft.shape, np.uint8)\n",
    "mask[image.shape[0]//2-sz:image.shape[0]//2+sz,\n",
    "     image.shape[1]//2-sz:image.shape[1]//2+sz, :] = 1\n",
    "fft_shift *= 1-mask\n",
    "fft = np.fft.ifftshift(fft_shift, axes=[0, 1])"
   ]
  },
  {
   "cell_type": "code",
   "execution_count": 32,
   "metadata": {},
   "outputs": [
    {
     "name": "stdout",
     "output_type": "stream",
     "text": [
      "(512, 512)\n",
      "float32\n"
     ]
    }
   ],
   "source": [
    "filtered = cv2.idft(fft, flags=cv2.DFT_SCALE | cv2.DFT_REAL_OUTPUT)\n",
    "print(filtered.shape)\n",
    "print(filtered.dtype)"
   ]
  },
  {
   "cell_type": "code",
   "execution_count": 33,
   "metadata": {
    "collapsed": true
   },
   "outputs": [],
   "source": [
    "plt.figure()\n",
    "plt.subplot(121)\n",
    "plt.axis('off')\n",
    "plt.title('original')\n",
    "plt.imshow(image, cmap='gray')\n",
    "plt.subplot(122)\n",
    "plt.axis('off')\n",
    "plt.title('no high frequencies')\n",
    "plt.imshow(filtered, cmap='gray')\n",
    "plt.tight_layout(True)\n",
    "plt.show()"
   ]
  },
  {
   "cell_type": "code",
   "execution_count": 17,
   "metadata": {
    "collapsed": true
   },
   "outputs": [],
   "source": [
    "cv2.imshow('filtered', filtered)\n",
    "cv2.waitKey()\n",
    "cv2.destroyAllWindows()"
   ]
  },
  {
   "cell_type": "code",
   "execution_count": null,
   "metadata": {
    "collapsed": true
   },
   "outputs": [],
   "source": []
  }
 ],
 "metadata": {
  "kernelspec": {
   "display_name": "Python 3",
   "language": "python",
   "name": "python3"
  },
  "language_info": {
   "codemirror_mode": {
    "name": "ipython",
    "version": 3
   },
   "file_extension": ".py",
   "mimetype": "text/x-python",
   "name": "python",
   "nbconvert_exporter": "python",
   "pygments_lexer": "ipython3",
   "version": "3.5.2"
  }
 },
 "nbformat": 4,
 "nbformat_minor": 2
}
