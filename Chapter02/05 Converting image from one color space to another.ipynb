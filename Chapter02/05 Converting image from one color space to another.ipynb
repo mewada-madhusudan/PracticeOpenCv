{
 "cells": [
  {
   "cell_type": "code",
   "execution_count": 10,
   "metadata": {
    "collapsed": true
   },
   "outputs": [],
   "source": [
    "import cv2\n",
    "import numpy as np"
   ]
  },
  {
   "cell_type": "code",
   "execution_count": 2,
   "metadata": {},
   "outputs": [
    {
     "name": "stdout",
     "output_type": "stream",
     "text": [
      "Shape: (512, 512, 3)\n",
      "Data type: float32\n"
     ]
    }
   ],
   "source": [
    "image = cv2.imread('../data/Lena.png').astype(np.float32) / 255\n",
    "print('Shape:', image.shape)\n",
    "print('Data type:', image.dtype)"
   ]
  },
  {
   "cell_type": "code",
   "execution_count": 3,
   "metadata": {},
   "outputs": [
    {
     "name": "stdout",
     "output_type": "stream",
     "text": [
      "Converted to grayscale\n",
      "Shape: (512, 512)\n",
      "Data type: float32\n"
     ]
    }
   ],
   "source": [
    "gray = cv2.cvtColor(image, cv2.COLOR_BGR2GRAY)\n",
    "print('Converted to grayscale')\n",
    "print('Shape:', gray.shape)\n",
    "print('Data type:', gray.dtype)"
   ]
  },
  {
   "cell_type": "code",
   "execution_count": 4,
   "metadata": {},
   "outputs": [
    {
     "name": "stdout",
     "output_type": "stream",
     "text": [
      "Converted to HSV\n",
      "Shape: (512, 512, 3)\n",
      "Data type: float32\n"
     ]
    }
   ],
   "source": [
    "hsv = cv2.cvtColor(image, cv2.COLOR_BGR2HSV)\n",
    "print('Converted to HSV')\n",
    "print('Shape:', hsv.shape)\n",
    "print('Data type:', hsv.dtype)"
   ]
  },
  {
   "cell_type": "code",
   "execution_count": 5,
   "metadata": {},
   "outputs": [
    {
     "name": "stdout",
     "output_type": "stream",
     "text": [
      "Converted back to BGR from HSV\n",
      "Shape: (512, 512, 3)\n",
      "Data type: float32\n"
     ]
    }
   ],
   "source": [
    "hsv[:, :, 2] *= 2\n",
    "from_hsv = cv2.cvtColor(hsv, cv2.COLOR_HSV2BGR)\n",
    "print('Converted back to BGR from HSV')\n",
    "print('Shape:', from_hsv.shape)\n",
    "print('Data type:', from_hsv.dtype)\n",
    "cv2.imshow('from_hsv', from_hsv)\n",
    "cv2.waitKey()\n",
    "cv2.destroyAllWindows()"
   ]
  },
  {
   "cell_type": "code",
   "execution_count": null,
   "metadata": {
    "collapsed": true
   },
   "outputs": [],
   "source": []
  },
  {
   "cell_type": "code",
   "execution_count": null,
   "metadata": {
    "collapsed": true
   },
   "outputs": [],
   "source": []
  }
 ],
 "metadata": {
  "kernelspec": {
   "display_name": "Python 3",
   "language": "python",
   "name": "python3"
  },
  "language_info": {
   "codemirror_mode": {
    "name": "ipython",
    "version": 3
   },
   "file_extension": ".py",
   "mimetype": "text/x-python",
   "name": "python",
   "nbconvert_exporter": "python",
   "pygments_lexer": "ipython3",
   "version": "3.5.2"
  }
 },
 "nbformat": 4,
 "nbformat_minor": 2
}
