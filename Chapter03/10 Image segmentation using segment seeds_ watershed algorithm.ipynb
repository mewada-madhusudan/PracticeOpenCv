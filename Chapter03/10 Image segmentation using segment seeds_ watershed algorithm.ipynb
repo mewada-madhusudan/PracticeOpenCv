{
 "cells": [
  {
   "cell_type": "code",
   "execution_count": 1,
   "metadata": {},
   "outputs": [],
   "source": [
    "import cv2\n",
    "import numpy as np\n",
    "from random import randint"
   ]
  },
  {
   "cell_type": "code",
   "execution_count": 2,
   "metadata": {
    "scrolled": true
   },
   "outputs": [],
   "source": [
    "img = cv2.imread('../data/Lena.png')\n",
    "show_img = np.copy(img)\n",
    "\n",
    "seeds = np.full(img.shape[0:2], 0, np.int32)\n",
    "segmentation = np.full(img.shape, 0, np.uint8)"
   ]
  },
  {
   "cell_type": "code",
   "execution_count": 3,
   "metadata": {},
   "outputs": [],
   "source": [
    "n_seeds = 9\n",
    "\n",
    "colors = []\n",
    "for m in range(n_seeds):\n",
    "    colors.append((255 * m / n_seeds, randint(0, 255), randint(0, 255)))\n",
    "\n",
    "mouse_pressed = False\n",
    "current_seed = 1\n",
    "seeds_updated = False"
   ]
  },
  {
   "cell_type": "code",
   "execution_count": 4,
   "metadata": {},
   "outputs": [],
   "source": [
    "def mouse_callback(event, x, y, flags, param):\n",
    "    global mouse_pressed, seeds_updated\n",
    "\n",
    "    if event == cv2.EVENT_LBUTTONDOWN:\n",
    "        mouse_pressed = True\n",
    "        cv2.circle(seeds, (x, y), 5, (current_seed), cv2.FILLED)\n",
    "        cv2.circle(show_img, (x, y), 5, colors[current_seed - 1], cv2.FILLED)\n",
    "        seeds_updated = True\n",
    "\n",
    "    elif event == cv2.EVENT_MOUSEMOVE:\n",
    "        if mouse_pressed:\n",
    "            cv2.circle(seeds, (x, y), 5, (current_seed), cv2.FILLED)\n",
    "            cv2.circle(show_img, (x, y), 5, colors[current_seed - 1], cv2.FILLED)\n",
    "            seeds_updated = True\n",
    "\n",
    "    elif event == cv2.EVENT_LBUTTONUP:\n",
    "        mouse_pressed = False"
   ]
  },
  {
   "cell_type": "code",
   "execution_count": 5,
   "metadata": {},
   "outputs": [],
   "source": [
    "cv2.namedWindow('image')\n",
    "cv2.setMouseCallback('image', mouse_callback)\n",
    "\n",
    "while True:\n",
    "    cv2.imshow('segmentation', segmentation)\n",
    "    cv2.imshow('image', show_img)\n",
    "        \n",
    "    k = cv2.waitKey(1)\n",
    "\n",
    "    if k == 27:\n",
    "        break\n",
    "    elif k == ord('c'):\n",
    "        show_img = np.copy(img)\n",
    "        seeds = np.full(img.shape[0:2], 0, np.int32)\n",
    "        segmentation = np.full(img.shape, 0, np.uint8)\n",
    "    elif k > 0 and chr(k).isdigit():\n",
    "        n = int(chr(k))\n",
    "        if 1 <= n <= n_seeds and not mouse_pressed:\n",
    "            current_seed = n\n",
    "    \n",
    "    if seeds_updated and not mouse_pressed:        \n",
    "        seeds_copy = np.copy(seeds)\n",
    "        cv2.watershed(img, seeds_copy)\n",
    "        segmentation = np.full(img.shape, 0, np.uint8)\n",
    "        for m in range(n_seeds):\n",
    "            segmentation[seeds_copy == (m + 1)] = colors[m]\n",
    "        \n",
    "        seeds_updated = False\n",
    "        \n",
    "cv2.destroyAllWindows()"
   ]
  }
 ],
 "metadata": {
  "kernelspec": {
   "display_name": "Python 2",
   "language": "python",
   "name": "python2"
  },
  "language_info": {
   "codemirror_mode": {
    "name": "ipython",
    "version": 2
   },
   "file_extension": ".py",
   "mimetype": "text/x-python",
   "name": "python",
   "nbconvert_exporter": "python",
   "pygments_lexer": "ipython2",
   "version": "2.7.12"
  }
 },
 "nbformat": 4,
 "nbformat_minor": 2
}
