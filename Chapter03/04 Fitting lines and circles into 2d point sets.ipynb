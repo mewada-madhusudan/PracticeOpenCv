{
 "cells": [
  {
   "cell_type": "code",
   "execution_count": 1,
   "metadata": {},
   "outputs": [],
   "source": [
    "import cv2\n",
    "import numpy as np\n",
    "import random"
   ]
  },
  {
   "cell_type": "code",
   "execution_count": 2,
   "metadata": {
    "scrolled": true
   },
   "outputs": [],
   "source": [
    "img = np.full((512, 512, 3), 255, np.uint8)\n",
    "\n",
    "axes = (int(256*random.uniform(0, 1)), int(256*random.uniform(0, 1)))\n",
    "angle = int(180*random.uniform(0, 1))\n",
    "center = (256, 256)"
   ]
  },
  {
   "cell_type": "code",
   "execution_count": 3,
   "metadata": {},
   "outputs": [],
   "source": [
    "pts = cv2.ellipse2Poly(center, axes, angle, 0, 360, 1)\n",
    "pts += np.random.uniform(-10, 10, pts.shape).astype(np.int32)"
   ]
  },
  {
   "cell_type": "code",
   "execution_count": 4,
   "metadata": {},
   "outputs": [],
   "source": [
    "cv2.ellipse(img, center, axes, angle, 0, 360, (0, 255, 0), 3)\n",
    "\n",
    "for pt in pts:\n",
    "    cv2.circle(img, (int(pt[0]), int(pt[1])), 3, (0, 0, 255))\n",
    "\n",
    "cv2.imshow('Fit ellipse', img)\n",
    "cv2.waitKey()\n",
    "cv2.destroyAllWindows()"
   ]
  },
  {
   "cell_type": "code",
   "execution_count": 5,
   "metadata": {},
   "outputs": [],
   "source": [
    "ellipse = cv2.fitEllipse(pts)\n",
    "cv2.ellipse(img, ellipse, (0, 0, 0), 3)\n",
    "\n",
    "cv2.imshow('Fit ellipse', img)\n",
    "cv2.waitKey()\n",
    "cv2.destroyAllWindows()"
   ]
  },
  {
   "cell_type": "code",
   "execution_count": 6,
   "metadata": {
    "scrolled": true
   },
   "outputs": [],
   "source": [
    "img = np.full((512, 512, 3), 255, np.uint8)\n",
    "\n",
    "pts = np.arange(512).reshape(-1, 1)\n",
    "pts = np.hstack((pts, pts))\n",
    "pts += np.random.uniform(-10, 10, pts.shape).astype(np.int32)"
   ]
  },
  {
   "cell_type": "code",
   "execution_count": 7,
   "metadata": {},
   "outputs": [],
   "source": [
    "cv2.line(img, (0,0), (512, 512), (0, 255, 0), 3)\n",
    "\n",
    "for pt in pts:\n",
    "    cv2.circle(img, (int(pt[0]), int(pt[1])), 3, (0, 0, 255))\n",
    "\n",
    "cv2.imshow('Fit line', img)\n",
    "cv2.waitKey()\n",
    "cv2.destroyAllWindows()"
   ]
  },
  {
   "cell_type": "code",
   "execution_count": 8,
   "metadata": {},
   "outputs": [],
   "source": [
    "vx,vy,x,y = cv2.fitLine(pts, cv2.DIST_L2, 0, 0.01, 0.01)\n",
    "y0 = int(y - x*vy/vx)\n",
    "y1 = int((512 - x)*vy/vx + y)\n",
    "cv2.line(img, (0, y0), (512, y1), (0, 0, 0), 3)\n",
    "\n",
    "cv2.imshow('Fit line', img)\n",
    "cv2.waitKey()\n",
    "cv2.destroyAllWindows()"
   ]
  },
  {
   "cell_type": "code",
   "execution_count": null,
   "metadata": {},
   "outputs": [],
   "source": []
  }
 ],
 "metadata": {
  "kernelspec": {
   "display_name": "Python 3",
   "language": "python",
   "name": "python3"
  },
  "language_info": {
   "codemirror_mode": {
    "name": "ipython",
    "version": 3
   },
   "file_extension": ".py",
   "mimetype": "text/x-python",
   "name": "python",
   "nbconvert_exporter": "python",
   "pygments_lexer": "ipython3",
   "version": "3.5.2"
  }
 },
 "nbformat": 4,
 "nbformat_minor": 2
}
