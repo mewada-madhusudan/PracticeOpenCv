{
 "cells": [
  {
   "cell_type": "code",
   "execution_count": 2,
   "metadata": {
    "collapsed": true
   },
   "outputs": [],
   "source": [
    "import cv2\n",
    "import numpy as np\n",
    "import matplotlib.pyplot as plt"
   ]
  },
  {
   "cell_type": "code",
   "execution_count": 3,
   "metadata": {},
   "outputs": [
    {
     "data": {
      "text/plain": [
       "array([[0, 0, 0, ..., 0, 0, 0],\n",
       "       [0, 0, 0, ..., 0, 0, 0],\n",
       "       [0, 0, 0, ..., 0, 0, 0],\n",
       "       ..., \n",
       "       [0, 0, 0, ..., 0, 0, 0],\n",
       "       [0, 0, 0, ..., 0, 0, 0],\n",
       "       [0, 0, 0, ..., 0, 0, 0]], dtype=uint8)"
      ]
     },
     "execution_count": 3,
     "metadata": {},
     "output_type": "execute_result"
    }
   ],
   "source": [
    "image = np.zeros((480, 640), np.uint8)\n",
    "cv2.ellipse(image, (320, 240), (200, 100), 0, 0, 360, 255, -1)"
   ]
  },
  {
   "cell_type": "code",
   "execution_count": 11,
   "metadata": {},
   "outputs": [
    {
     "name": "stdout",
     "output_type": "stream",
     "text": [
      "nu11 \t -2.809466679966455e-13\n",
      "mu12 \t -422443285.20703125\n",
      "mu21 \t -420182048.71875\n",
      "m11 \t 1237939564800.0\n",
      "mu20 \t 161575917357.31616\n",
      "m10 \t 5158101240.0\n",
      "nu03 \t 1.013174855849065e-10\n",
      "nu12 \t -4.049505150683136e-10\n",
      "nu21 \t -4.0278291313762605e-10\n",
      "mu03 \t 105694127.71875\n",
      "nu30 \t 1.618061841335058e-09\n",
      "m30 \t 683285449618080.0\n",
      "nu02 \t 0.00015660970937729079\n",
      "m20 \t 1812142855350.0\n",
      "m00 \t 16119315.0\n",
      "mu02 \t 40692263506.42969\n",
      "nu20 \t 0.0006218468887998859\n",
      "m02 \t 969157708320.0\n",
      "m21 \t 434912202354750.0\n",
      "m01 \t 3868620810.0\n",
      "m03 \t 252129278267070.0\n",
      "mu11 \t -72.9990234375\n",
      "mu30 \t 1687957749.125\n",
      "m12 \t 310125260718570.0\n"
     ]
    }
   ],
   "source": [
    "m = cv2.moments(image)\n",
    "for name, val in m.items():\n",
    "    print(name, '\\t', val)"
   ]
  },
  {
   "cell_type": "code",
   "execution_count": 31,
   "metadata": {},
   "outputs": [
    {
     "name": "stdout",
     "output_type": "stream",
     "text": [
      "Center X estimated: 319.9950643063927\n",
      "Center Y estimated: 239.999082467214\n"
     ]
    }
   ],
   "source": [
    "print('Center X estimated:', m['m10'] / m['m00'])\n",
    "print('Center Y estimated:', m['m01'] / m['m00'])"
   ]
  },
  {
   "cell_type": "code",
   "execution_count": null,
   "metadata": {
    "collapsed": true
   },
   "outputs": [],
   "source": []
  }
 ],
 "metadata": {
  "kernelspec": {
   "display_name": "Python 3",
   "language": "python",
   "name": "python3"
  },
  "language_info": {
   "codemirror_mode": {
    "name": "ipython",
    "version": 3
   },
   "file_extension": ".py",
   "mimetype": "text/x-python",
   "name": "python",
   "nbconvert_exporter": "python",
   "pygments_lexer": "ipython3",
   "version": "3.5.2"
  }
 },
 "nbformat": 4,
 "nbformat_minor": 2
}
