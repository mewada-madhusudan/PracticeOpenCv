{
 "cells": [
  {
   "cell_type": "code",
   "execution_count": 2,
   "metadata": {},
   "outputs": [],
   "source": [
    "import cv2\n",
    "import numpy as np"
   ]
  },
  {
   "cell_type": "code",
   "execution_count": 38,
   "metadata": {
    "scrolled": false
   },
   "outputs": [],
   "source": [
    "img = cv2.imread('../data/BnW.png', cv2.IMREAD_GRAYSCALE)\n",
    "\n",
    "connectivity = 8\n",
    "num_labels, labelmap = cv2.connectedComponents(img, connectivity, cv2.CV_32S)"
   ]
  },
  {
   "cell_type": "code",
   "execution_count": 39,
   "metadata": {},
   "outputs": [],
   "source": [
    "img = np.hstack((img, labelmap.astype(np.float32)/(num_labels - 1)))\n",
    "cv2.imshow('Connected components', img)\n",
    "cv2.waitKey()\n",
    "cv2.destroyAllWindows()"
   ]
  },
  {
   "cell_type": "code",
   "execution_count": 40,
   "metadata": {},
   "outputs": [],
   "source": [
    "img = cv2.imread('../data/Lena.png', cv2.IMREAD_GRAYSCALE)\n",
    "otsu_thr, otsu_mask = cv2.threshold(img, -1, 1, cv2.THRESH_BINARY | cv2.THRESH_OTSU)\n",
    "\n",
    "output = cv2.connectedComponentsWithStats(otsu_mask, connectivity, cv2.CV_32S)"
   ]
  },
  {
   "cell_type": "code",
   "execution_count": 41,
   "metadata": {},
   "outputs": [],
   "source": [
    "num_labels, labelmap, stats, centers = output\n",
    "\n",
    "colored = np.full((img.shape[0], img.shape[1], 3), 0, np.uint8)\n",
    "\n",
    "for l in range(1, num_labels):\n",
    "    if stats[l][4] > 200:\n",
    "        colored[labelmap == l] = (0, 255*l/num_labels, 255*num_labels/l)\n",
    "        cv2.circle(colored, \n",
    "                   (int(centers[l][0]), int(centers[l][1])), 5, (255, 0, 0), cv2.FILLED)\n",
    "        \n",
    "img = cv2.cvtColor(otsu_mask*255, cv2.COLOR_GRAY2BGR)\n",
    "\n",
    "cv2.imshow('Connected components', np.hstack((img, colored)))\n",
    "cv2.waitKey()\n",
    "cv2.destroyAllWindows()"
   ]
  },
  {
   "cell_type": "code",
   "execution_count": null,
   "metadata": {},
   "outputs": [],
   "source": []
  }
 ],
 "metadata": {
  "kernelspec": {
   "display_name": "Python 2",
   "language": "python",
   "name": "python2"
  },
  "language_info": {
   "codemirror_mode": {
    "name": "ipython",
    "version": 2
   },
   "file_extension": ".py",
   "mimetype": "text/x-python",
   "name": "python",
   "nbconvert_exporter": "python",
   "pygments_lexer": "ipython2",
   "version": "2.7.12"
  }
 },
 "nbformat": 4,
 "nbformat_minor": 2
}
