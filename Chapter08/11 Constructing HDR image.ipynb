{
 "cells": [
  {
   "cell_type": "code",
   "execution_count": 1,
   "metadata": {},
   "outputs": [],
   "source": [
    "import cv2\n",
    "import numpy as np"
   ]
  },
  {
   "cell_type": "code",
   "execution_count": 2,
   "metadata": {},
   "outputs": [],
   "source": [
    "imgs_names = ['33', '100', '179', '892', '1560', '2933']\n",
    "\n",
    "exp_times = []\n",
    "images = []\n",
    "\n",
    "for name in imgs_names:\n",
    "    exp_times.append(1/float(name))\n",
    "    images.append(cv2.imread('../data/hdr/%s.jpg' % name, cv2.IMREAD_COLOR))\n",
    "\n",
    "exp_times = np.array(exp_times).astype(np.float32)"
   ]
  },
  {
   "cell_type": "code",
   "execution_count": 18,
   "metadata": {},
   "outputs": [
    {
     "name": "stdout",
     "output_type": "stream",
     "text": [
      "(256, 1, 3)\n"
     ]
    }
   ],
   "source": [
    "calibrate = cv2.createCalibrateDebevec()\n",
    "response = calibrate.process(images, exp_times)"
   ]
  },
  {
   "cell_type": "code",
   "execution_count": 4,
   "metadata": {},
   "outputs": [],
   "source": [
    "merge_debevec = cv2.createMergeDebevec()\n",
    "hdr = merge_debevec.process(images, exp_times, response)"
   ]
  },
  {
   "cell_type": "code",
   "execution_count": 14,
   "metadata": {},
   "outputs": [],
   "source": [
    "tonemap = cv2.createTonemapDurand(2.4)\n",
    "ldr = tonemap.process(hdr)\n",
    "\n",
    "ldr = cv2.normalize(ldr, None, 0, 1, cv2.NORM_MINMAX)\n",
    "\n",
    "cv2.imshow('ldr', ldr)\n",
    "cv2.waitKey()\n",
    "cv2.destroyAllWindows()"
   ]
  },
  {
   "cell_type": "code",
   "execution_count": 16,
   "metadata": {},
   "outputs": [],
   "source": [
    "merge_mertens = cv2.createMergeMertens()\n",
    "fusion = merge_mertens.process(images)\n",
    "\n",
    "fusion = cv2.normalize(fusion, None, 0, 1, cv2.NORM_MINMAX)\n",
    "\n",
    "cv2.imshow('fusion', fusion)\n",
    "cv2.waitKey()\n",
    "cv2.destroyAllWindows()"
   ]
  },
  {
   "cell_type": "code",
   "execution_count": null,
   "metadata": {},
   "outputs": [],
   "source": []
  }
 ],
 "metadata": {
  "kernelspec": {
   "display_name": "Python 3",
   "language": "python",
   "name": "python3"
  },
  "language_info": {
   "codemirror_mode": {
    "name": "ipython",
    "version": 3
   },
   "file_extension": ".py",
   "mimetype": "text/x-python",
   "name": "python",
   "nbconvert_exporter": "python",
   "pygments_lexer": "ipython3",
   "version": "3.5.2"
  }
 },
 "nbformat": 4,
 "nbformat_minor": 2
}
