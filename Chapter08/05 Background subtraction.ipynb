{
 "cells": [
  {
   "cell_type": "code",
   "execution_count": 1,
   "metadata": {},
   "outputs": [],
   "source": [
    "import cv2\n",
    "import numpy as np"
   ]
  },
  {
   "cell_type": "code",
   "execution_count": 2,
   "metadata": {},
   "outputs": [],
   "source": [
    "def split_image_fgbg(subtractor, open_sz=(0,0), close_sz=(0,0), show_bg=False, show_shdw=False):\n",
    "    kernel_open = kernel_close = None\n",
    "    \n",
    "    if all(i > 0 for i in open_sz):\n",
    "        kernel_open = cv2.getStructuringElement(cv2.MORPH_ELLIPSE, open_sz)\n",
    "    \n",
    "    if all(i > 0 for i in close_sz):\n",
    "        kernel_close = cv2.getStructuringElement(cv2.MORPH_ELLIPSE, close_sz)\n",
    "\n",
    "    cap = cv2.VideoCapture('../data/traffic.mp4')\n",
    "    while True:\n",
    "        status_cap, frame = cap.read()\n",
    "        if not status_cap:\n",
    "            break\n",
    "        \n",
    "        frame = cv2.resize(frame, None, fx=0.5, fy=0.5)\n",
    "        \n",
    "        fgmask = subtractor.apply(frame)\n",
    "        \n",
    "        objects_mask = (fgmask == 255).astype(np.uint8)\n",
    "        shadows_mask = (fgmask == 127).astype(np.uint8)\n",
    "            \n",
    "        if kernel_open is not None:\n",
    "            objects_mask = cv2.morphologyEx(objects_mask, cv2.MORPH_OPEN, kernel_open)\n",
    "\n",
    "        if kernel_close is not None:\n",
    "            objects_mask = cv2.morphologyEx(objects_mask, cv2.MORPH_CLOSE, kernel_close)\n",
    "            if kernel_open is not None:\n",
    "                shadows_mask = cv2.morphologyEx(shadows_mask, cv2.MORPH_CLOSE, kernel_open)\n",
    "                         \n",
    "        foreground = frame\n",
    "        foreground[objects_mask == 0] = 0\n",
    "        \n",
    "        if show_shdw:\n",
    "            foreground[shadows_mask > 0] = (0, 255, 0)\n",
    "               \n",
    "        cv2.imshow('foreground', foreground)\n",
    "\n",
    "        if show_bg:\n",
    "            background = fgbg.getBackgroundImage()\n",
    "            if background is not None:\n",
    "                cv2.imshow('background', background)    \n",
    "\n",
    "        if cv2.waitKey(30) == 27:\n",
    "            break\n",
    "\n",
    "    cap.release()\n",
    "    cv2.destroyAllWindows()"
   ]
  },
  {
   "cell_type": "code",
   "execution_count": 3,
   "metadata": {},
   "outputs": [],
   "source": [
    "fgbg = cv2.bgsegm.createBackgroundSubtractorMOG()\n",
    "\n",
    "split_image_fgbg(fgbg, (2, 2), (40, 40))"
   ]
  },
  {
   "cell_type": "code",
   "execution_count": 4,
   "metadata": {},
   "outputs": [],
   "source": [
    "fgbg = cv2.createBackgroundSubtractorMOG2()\n",
    "\n",
    "split_image_fgbg(fgbg, (3, 3), (30, 30), True)"
   ]
  },
  {
   "cell_type": "code",
   "execution_count": 5,
   "metadata": {},
   "outputs": [],
   "source": [
    "fgbg = cv2.bgsegm.createBackgroundSubtractorGMG()\n",
    "\n",
    "split_image_fgbg(fgbg, (5, 5), (25, 25))"
   ]
  },
  {
   "cell_type": "code",
   "execution_count": 6,
   "metadata": {},
   "outputs": [],
   "source": [
    "fgbg = cv2.bgsegm.createBackgroundSubtractorCNT()\n",
    "\n",
    "split_image_fgbg(fgbg, (5, 5), (15, 15), True)"
   ]
  },
  {
   "cell_type": "code",
   "execution_count": 7,
   "metadata": {},
   "outputs": [],
   "source": [
    "fgbg = cv2.createBackgroundSubtractorKNN()\n",
    "\n",
    "split_image_fgbg(fgbg, (5, 5), (25, 25), True)"
   ]
  },
  {
   "cell_type": "code",
   "execution_count": null,
   "metadata": {},
   "outputs": [],
   "source": []
  }
 ],
 "metadata": {
  "kernelspec": {
   "display_name": "Python 3",
   "language": "python",
   "name": "python3"
  },
  "language_info": {
   "codemirror_mode": {
    "name": "ipython",
    "version": 3
   },
   "file_extension": ".py",
   "mimetype": "text/x-python",
   "name": "python",
   "nbconvert_exporter": "python",
   "pygments_lexer": "ipython3",
   "version": "3.5.2"
  }
 },
 "nbformat": 4,
 "nbformat_minor": 2
}
