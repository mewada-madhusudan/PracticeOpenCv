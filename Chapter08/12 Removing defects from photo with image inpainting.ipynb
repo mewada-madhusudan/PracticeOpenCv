{
 "cells": [
  {
   "cell_type": "code",
   "execution_count": 1,
   "metadata": {},
   "outputs": [],
   "source": [
    "import cv2\n",
    "import numpy as np"
   ]
  },
  {
   "cell_type": "code",
   "execution_count": 2,
   "metadata": {},
   "outputs": [],
   "source": [
    "class MaskCreator:\n",
    "    def __init__(self, image, mask):\n",
    "        self.prev_pt = None\n",
    "        self.image = image\n",
    "        self.mask = mask\n",
    "        self.dirty = False\n",
    "        self.show()\n",
    "        cv2.setMouseCallback('mask', self.mouse_callback)\n",
    "\n",
    "    def show(self):\n",
    "        cv2.imshow('mask', self.image)\n",
    "\n",
    "    def mouse_callback(self, event, x, y, flags, param):\n",
    "        pt = (x, y)\n",
    "        if event == cv2.EVENT_LBUTTONDOWN:\n",
    "            self.prev_pt = pt\n",
    "        elif event == cv2.EVENT_LBUTTONUP:\n",
    "            self.prev_pt = None\n",
    "\n",
    "        if self.prev_pt and flags & cv2.EVENT_FLAG_LBUTTON:\n",
    "            cv2.line(self.image, self.prev_pt, pt, (127,)*3, 5)\n",
    "            cv2.line(self.mask, self.prev_pt, pt, 255, 5)\n",
    "                \n",
    "            self.dirty = True\n",
    "            self.prev_pt = pt\n",
    "            self.show()"
   ]
  },
  {
   "cell_type": "code",
   "execution_count": 6,
   "metadata": {},
   "outputs": [],
   "source": [
    "img = cv2.imread('../data/Lena.png')\n",
    "\n",
    "defect_img = img.copy()\n",
    "mask = np.zeros(img.shape[:2], np.uint8)\n",
    "m_creator = MaskCreator(defect_img, mask)\n",
    "\n",
    "while True:\n",
    "    k = cv2.waitKey()\n",
    "    if k == 27:\n",
    "        break\n",
    "    if k == ord('a'):\n",
    "        res_telea = cv2.inpaint(defect_img, mask, 3, cv2.INPAINT_TELEA)\n",
    "        res_ns = cv2.inpaint(defect_img, mask, 3, cv2.INPAINT_NS)\n",
    "        cv2.imshow('TELEA vs NS', np.hstack((res_telea, res_ns)))\n",
    "    if k == ord('c'):\n",
    "        defect_img[:] = img\n",
    "        mask[:] = 0\n",
    "        m_creator.show()\n",
    "cv2.destroyAllWindows()"
   ]
  },
  {
   "cell_type": "code",
   "execution_count": null,
   "metadata": {},
   "outputs": [],
   "source": []
  }
 ],
 "metadata": {
  "kernelspec": {
   "display_name": "Python 3",
   "language": "python",
   "name": "python3"
  },
  "language_info": {
   "codemirror_mode": {
    "name": "ipython",
    "version": 3
   },
   "file_extension": ".py",
   "mimetype": "text/x-python",
   "name": "python",
   "nbconvert_exporter": "python",
   "pygments_lexer": "ipython3",
   "version": "3.5.2"
  }
 },
 "nbformat": 4,
 "nbformat_minor": 2
}
