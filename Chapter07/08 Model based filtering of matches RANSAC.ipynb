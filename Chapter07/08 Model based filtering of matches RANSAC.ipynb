{
 "cells": [
  {
   "cell_type": "code",
   "execution_count": 13,
   "metadata": {},
   "outputs": [
    {
     "name": "stdout",
     "output_type": "stream",
     "text": [
      "Using matplotlib backend: TkAgg\n"
     ]
    }
   ],
   "source": [
    "import cv2\n",
    "import numpy as np\n",
    "import matplotlib.pyplot as plt\n",
    "%matplotlib auto"
   ]
  },
  {
   "cell_type": "code",
   "execution_count": 14,
   "metadata": {},
   "outputs": [],
   "source": [
    "img0 = cv2.imread('../data/Lena.png', cv2.IMREAD_GRAYSCALE)\n",
    "img1 = cv2.imread('../data/Lena_rotated.png', cv2.IMREAD_GRAYSCALE)\n",
    "\n",
    "detector = cv2.ORB_create(100)\n",
    "kps0, fea0 = detector.detectAndCompute(img0, None)\n",
    "kps1, fea1 = detector.detectAndCompute(img1, None)\n",
    "matcher = cv2.BFMatcher_create(cv2.NORM_HAMMING, False)\n",
    "matches = matcher.match(fea0, fea1)"
   ]
  },
  {
   "cell_type": "code",
   "execution_count": 15,
   "metadata": {},
   "outputs": [],
   "source": [
    "pts0 = np.float32([kps0[m.queryIdx].pt for m in matches]).reshape(-1,2)\n",
    "pts1 = np.float32([kps1[m.trainIdx].pt for m in matches]).reshape(-1,2)\n",
    "H, mask = cv2.findHomography(pts0, pts1, cv2.RANSAC, 3.0)"
   ]
  },
  {
   "cell_type": "code",
   "execution_count": 20,
   "metadata": {},
   "outputs": [],
   "source": [
    "plt.figure()\n",
    "plt.subplot(211)\n",
    "plt.axis('off')\n",
    "plt.title('all matches')\n",
    "dbg_img = cv2.drawMatches(img0, kps0, img1, kps1, matches, None)\n",
    "plt.imshow(dbg_img[:,:,[2,1,0]])\n",
    "plt.subplot(212)\n",
    "plt.axis('off')\n",
    "plt.title('filtered matches')\n",
    "dbg_img = cv2.drawMatches(img0, kps0, img1, kps1, [m for i,m in enumerate(matches) if mask[i]], None)\n",
    "plt.imshow(dbg_img[:,:,[2,1,0]])\n",
    "plt.tight_layout()\n",
    "plt.show()"
   ]
  },
  {
   "cell_type": "code",
   "execution_count": null,
   "metadata": {},
   "outputs": [],
   "source": []
  }
 ],
 "metadata": {
  "kernelspec": {
   "display_name": "Python 3",
   "language": "python",
   "name": "python3"
  },
  "language_info": {
   "codemirror_mode": {
    "name": "ipython",
    "version": 3
   },
   "file_extension": ".py",
   "mimetype": "text/x-python",
   "name": "python",
   "nbconvert_exporter": "python",
   "pygments_lexer": "ipython3",
   "version": "3.6.4"
  }
 },
 "nbformat": 4,
 "nbformat_minor": 2
}
