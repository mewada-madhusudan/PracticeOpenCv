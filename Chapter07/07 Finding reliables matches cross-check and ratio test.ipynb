{
 "cells": [
  {
   "cell_type": "code",
   "execution_count": 40,
   "metadata": {},
   "outputs": [
    {
     "name": "stdout",
     "output_type": "stream",
     "text": [
      "Using matplotlib backend: TkAgg\n"
     ]
    }
   ],
   "source": [
    "import cv2\n",
    "import matplotlib.pyplot as plt\n",
    "%matplotlib auto"
   ]
  },
  {
   "cell_type": "code",
   "execution_count": 41,
   "metadata": {},
   "outputs": [
    {
     "name": "stdout",
     "output_type": "stream",
     "text": [
      "[[  0.96592583  -0.25881905  74.98066402]\n",
      " [  0.25881905   0.96592583 -57.53468708]\n",
      " [  0.           0.           1.        ]]\n"
     ]
    },
    {
     "data": {
      "text/plain": [
       "True"
      ]
     },
     "execution_count": 41,
     "metadata": {},
     "output_type": "execute_result"
    }
   ],
   "source": [
    "img0 = cv2.imread('../data/Lena.png')\n",
    "M = np.array([[math.cos(np.pi/12), -math.sin(np.pi/12), 0],\n",
    "             [math.sin(np.pi/12), math.cos(np.pi/12), 0],\n",
    "             [0,0,1]])\n",
    "Moff = np.eye(3)\n",
    "Moff[0,2] = -img0.shape[1]/2\n",
    "Moff[1,2] = -img0.shape[0]/2\n",
    "print(np.linalg.inv(Moff)@M@Moff)\n",
    "img1 = cv2.warpPerspective(img0, np.linalg.inv(Moff)@M@Moff, (img0.shape[1], img0.shape[0]), borderMode=cv2.BORDER_REPLICATE)\n",
    "cv2.imwrite('../data/Lena_rotated.png', img1)"
   ]
  },
  {
   "cell_type": "code",
   "execution_count": 51,
   "metadata": {},
   "outputs": [],
   "source": [
    "img0 = cv2.imread('../data/Lena.png', cv2.IMREAD_GRAYSCALE)\n",
    "img1 = cv2.imread('../data/Lena_rotated.png', cv2.IMREAD_GRAYSCALE)"
   ]
  },
  {
   "cell_type": "code",
   "execution_count": 65,
   "metadata": {},
   "outputs": [],
   "source": [
    "detector = cv2.ORB_create(100)\n",
    "kps0, fea0 = detector.detectAndCompute(img0, None)\n",
    "kps1, fea1 = detector.detectAndCompute(img1, None)"
   ]
  },
  {
   "cell_type": "code",
   "execution_count": 66,
   "metadata": {},
   "outputs": [],
   "source": [
    "matcher = cv2.BFMatcher_create(cv2.NORM_HAMMING, False)\n",
    "matches01 = matcher.knnMatch(fea0, fea1, k=2)\n",
    "matches10 = matcher.knnMatch(fea1, fea0, k=2)"
   ]
  },
  {
   "cell_type": "code",
   "execution_count": 76,
   "metadata": {},
   "outputs": [],
   "source": [
    "def ratio_test(matches, ratio_thr):\n",
    "    good_matches = []\n",
    "    for m in matches:\n",
    "        ratio = m[0].distance / m[1].distance\n",
    "        if ratio < ratio_thr:\n",
    "            good_matches.append(m[0])\n",
    "    return good_matches\n",
    "\n",
    "RATIO_THR = 0.7  # Lower values mean more aggressive filtering.\n",
    "good_matches01 = ratio_test(matches01, RATIO_THR)\n",
    "good_matches10 = ratio_test(matches10, RATIO_THR)"
   ]
  },
  {
   "cell_type": "code",
   "execution_count": 77,
   "metadata": {},
   "outputs": [],
   "source": [
    "good_matches10_ = {(m.trainIdx, m.queryIdx) for m in good_matches10}\n",
    "final_matches = [m for m in good_matches01 if (m.queryIdx, m.trainIdx) in good_matches10_]"
   ]
  },
  {
   "cell_type": "code",
   "execution_count": 79,
   "metadata": {},
   "outputs": [],
   "source": [
    "dbg_img = cv2.drawMatches(img0, kps0, img1, kps1, final_matches, None)\n",
    "plt.figure()\n",
    "plt.imshow(dbg_img[:,:,[2,1,0]])\n",
    "plt.tight_layout()\n",
    "plt.show()"
   ]
  },
  {
   "cell_type": "code",
   "execution_count": null,
   "metadata": {},
   "outputs": [],
   "source": []
  }
 ],
 "metadata": {
  "kernelspec": {
   "display_name": "Python 3",
   "language": "python",
   "name": "python3"
  },
  "language_info": {
   "codemirror_mode": {
    "name": "ipython",
    "version": 3
   },
   "file_extension": ".py",
   "mimetype": "text/x-python",
   "name": "python",
   "nbconvert_exporter": "python",
   "pygments_lexer": "ipython3",
   "version": "3.6.4"
  }
 },
 "nbformat": 4,
 "nbformat_minor": 2
}
