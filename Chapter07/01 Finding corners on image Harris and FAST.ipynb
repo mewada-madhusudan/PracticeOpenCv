{
 "cells": [
  {
   "cell_type": "code",
   "execution_count": 1,
   "metadata": {},
   "outputs": [],
   "source": [
    "import cv2\n",
    "import numpy as np"
   ]
  },
  {
   "cell_type": "code",
   "execution_count": 2,
   "metadata": {},
   "outputs": [],
   "source": [
    "img = cv2.imread('../data/scenetext01.jpg', cv2.IMREAD_COLOR)\n",
    "corners = cv2.cornerHarris(cv2.cvtColor(img, cv2.COLOR_BGR2GRAY), 2, 3, 0.04)"
   ]
  },
  {
   "cell_type": "code",
   "execution_count": 3,
   "metadata": {},
   "outputs": [],
   "source": [
    "corners = cv2.dilate(corners, None)\n",
    "\n",
    "show_img = np.copy(img)\n",
    "show_img[corners>0.1*corners.max()]=[0,0,255]\n",
    "\n",
    "corners = cv2.normalize(corners, None, 0, 255, cv2.NORM_MINMAX).astype(np.uint8)\n",
    "show_img = np.hstack((show_img, cv2.cvtColor(corners, cv2.COLOR_GRAY2BGR)))\n",
    "\n",
    "cv2.imshow('Harris corner detector', show_img)\n",
    "if cv2.waitKey(0) == 27:\n",
    "    cv2.destroyAllWindows()"
   ]
  },
  {
   "cell_type": "code",
   "execution_count": 4,
   "metadata": {},
   "outputs": [],
   "source": [
    "fast = cv2.FastFeatureDetector_create(30, True, cv2.FAST_FEATURE_DETECTOR_TYPE_9_16)\n",
    "kp = fast.detect(img)"
   ]
  },
  {
   "cell_type": "code",
   "execution_count": 5,
   "metadata": {},
   "outputs": [],
   "source": [
    "show_img = np.copy(img)\n",
    "for p in cv2.KeyPoint_convert(kp):\n",
    "    cv2.circle(show_img, tuple(p), 2, (0, 255, 0), cv2.FILLED)\n",
    "\n",
    "cv2.imshow('FAST corner detector', show_img)\n",
    "if cv2.waitKey(0) == 27:\n",
    "    cv2.destroyAllWindows()"
   ]
  },
  {
   "cell_type": "code",
   "execution_count": 6,
   "metadata": {},
   "outputs": [],
   "source": [
    "fast.setNonmaxSuppression(False)\n",
    "kp = fast.detect(img)\n",
    "\n",
    "for p in cv2.KeyPoint_convert(kp):\n",
    "    cv2.circle(show_img, tuple(p), 2, (0, 255, 0), cv2.FILLED)\n",
    "    \n",
    "cv2.imshow('FAST corner detector', show_img)\n",
    "if cv2.waitKey(0) == 27:\n",
    "    cv2.destroyAllWindows()"
   ]
  },
  {
   "cell_type": "code",
   "execution_count": null,
   "metadata": {},
   "outputs": [],
   "source": []
  }
 ],
 "metadata": {
  "kernelspec": {
   "display_name": "Python 3",
   "language": "python",
   "name": "python3"
  },
  "language_info": {
   "codemirror_mode": {
    "name": "ipython",
    "version": 3
   },
   "file_extension": ".py",
   "mimetype": "text/x-python",
   "name": "python",
   "nbconvert_exporter": "python",
   "pygments_lexer": "ipython3",
   "version": "3.5.2"
  }
 },
 "nbformat": 4,
 "nbformat_minor": 2
}
